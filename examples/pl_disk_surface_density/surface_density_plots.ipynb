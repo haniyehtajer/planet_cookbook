{
 "cells": [
  {
   "cell_type": "code",
   "execution_count": 1,
   "id": "3bc43e6a",
   "metadata": {},
   "outputs": [],
   "source": [
    "import numpy as np\n",
    "import matplotlib.pyplot as plt\n",
    "from matplotlib import rcParams\n",
    "from matplotlib.ticker import ScalarFormatter\n",
    "%matplotlib inline\n",
    "import pandas as pd\n",
    "from planet_cookbook import read_reports as rr\n",
    "import os\n",
    "import rebound\n",
    "import seaborn as sns\n",
    "\n",
    "sol_to_earth = 332946.078\n",
    "G = 6.6743* 10**(-11) #N⋅m2/kg2\n",
    "M_sun = 1.989e+33 #g\n",
    "AU = 1.496e+13 #cm"
   ]
  },
  {
   "cell_type": "code",
   "execution_count": null,
   "id": "3a28072c",
   "metadata": {},
   "outputs": [],
   "source": [
    "params = {\n",
    "   'axes.labelsize': 20,\n",
    "   'font.size': 20,\n",
    "   'legend.fontsize': 10,\n",
    "   'xtick.labelsize': 20,\n",
    "   'ytick.labelsize': 15,\n",
    "   'text.usetex': True, #to use TeX in your labels\n",
    "   'font.family':'serif',\n",
    "   'axes.titlesize': 15\n",
    "   }\n",
    "rcParams.update(params)\n",
    "\n",
    "#Color-blind friendly pallete\n",
    "colors = [\n",
    "    \"#0C7BDC\",  # Vibrant Blue\n",
    "    \"#E66100\",  # Bright Orange\n",
    "    \"#40B0A6\",  # Teal/Aqua\n",
    "    \"#8B8D8B\",  # Medium Grey\n",
    "    \"#5D3A9B\"   # Muted Purple\n",
    "]\n",
    "\n",
    "vib_blue = \"#0C7BDC\"\n",
    "teal = \"#40B0A6\"\n",
    "purple = \"#5D3A9B\""
   ]
  },
  {
   "cell_type": "code",
   "execution_count": null,
   "id": "b7adc65a",
   "metadata": {},
   "outputs": [],
   "source": []
  }
 ],
 "metadata": {
  "kernelspec": {
   "display_name": "haniyeh_research",
   "language": "python",
   "name": "python3"
  },
  "language_info": {
   "codemirror_mode": {
    "name": "ipython",
    "version": 3
   },
   "file_extension": ".py",
   "mimetype": "text/x-python",
   "name": "python",
   "nbconvert_exporter": "python",
   "pygments_lexer": "ipython3",
   "version": "3.13.2"
  }
 },
 "nbformat": 4,
 "nbformat_minor": 5
}
