{
 "cells": [
  {
   "cell_type": "code",
   "execution_count": 1,
   "id": "04591c21",
   "metadata": {},
   "outputs": [],
   "source": [
    "import numpy as np\n",
    "import matplotlib.pyplot as plt\n",
    "from matplotlib import rcParams\n",
    "from matplotlib.ticker import ScalarFormatter\n",
    "%matplotlib inline\n",
    "import pandas as pd\n",
    "from planet_cookbook import read_reports as rr\n",
    "import os\n",
    "import rebound\n",
    "import seaborn as sns\n",
    "\n",
    "sol_to_earth = 332946.078\n",
    "G = 6.6743* 10**(-11) #N⋅m2/kg2\n",
    "M_sun = 1.989e+33 #g\n",
    "AU = 1.496e+13 #cm"
   ]
  },
  {
   "cell_type": "code",
   "execution_count": 2,
   "id": "c86edec0",
   "metadata": {},
   "outputs": [],
   "source": [
    "params = {\n",
    "   'axes.labelsize': 15,\n",
    "   'font.size': 15,\n",
    "   'legend.fontsize': 10,\n",
    "   'xtick.labelsize': 15,\n",
    "   'ytick.labelsize': 15,\n",
    "   'text.usetex': True, #to use TeX in your labels\n",
    "   'font.family':'serif',\n",
    "   'axes.titlesize': 15\n",
    "   }\n",
    "rcParams.update(params)"
   ]
  },
  {
   "cell_type": "code",
   "execution_count": 3,
   "id": "cd5f45ed",
   "metadata": {},
   "outputs": [],
   "source": [
    "#Color-blind friendly pallete\n",
    "colors = [\n",
    "    \"#0C7BDC\",  # Vibrant Blue\n",
    "    \"#E66100\",  # Bright Orange\n",
    "    \"#40B0A6\",  # Teal/Aqua\n",
    "    \"#8B8D8B\",  # Medium Grey\n",
    "    \"#5D3A9B\"   # Muted Purple\n",
    "]\n",
    "\n",
    "vib_blue = \"#0C7BDC\"\n",
    "teal = \"#40B0A6\"\n",
    "purple = \"#5D3A9B\" "
   ]
  },
  {
   "cell_type": "code",
   "execution_count": 4,
   "id": "3b4202ad",
   "metadata": {},
   "outputs": [],
   "source": [
    "solar_system_df = pd.read_csv('solarsystem.csv')\n",
    "mercury = solar_system_df[solar_system_df['name'] == 'Mercury']\n",
    "venus = solar_system_df[solar_system_df['name'] == 'Venus']\n",
    "earth = solar_system_df[solar_system_df['name'] == 'Earth']\n",
    "mars = solar_system_df[solar_system_df['name'] == 'Mars']"
   ]
  },
  {
   "cell_type": "code",
   "execution_count": 6,
   "id": "48316c6b",
   "metadata": {},
   "outputs": [
    {
     "name": "stderr",
     "output_type": "stream",
     "text": [
      "/Users/honeyeah/miniconda3/envs/haniyeh_research/lib/python3.13/site-packages/rebound/simulationarchive.py:103: RuntimeWarning: Binary file was saved with a different version of REBOUND. Binary format might have changed. Binary file was saved with REBOUND Version 4.4.7. You are currently using REBOUND Version 4.4.8.\n",
      "  warnings.warn(message, RuntimeWarning)\n",
      "/Users/honeyeah/miniconda3/envs/haniyeh_research/lib/python3.13/site-packages/rebound/simulationarchive.py:150: RuntimeWarning: Binary file was saved with a different version of REBOUND. Binary format might have changed.\n",
      "  warnings.warn(message, RuntimeWarning)\n",
      "/Users/honeyeah/miniconda3/envs/haniyeh_research/lib/python3.13/site-packages/rebound/simulationarchive.py:150: RuntimeWarning: You have to reset function pointers after creating a reb_simulation struct with a binary file.\n",
      "  warnings.warn(message, RuntimeWarning)\n",
      "/Users/honeyeah/miniconda3/envs/haniyeh_research/lib/python3.13/site-packages/rebound/simulationarchive.py:103: RuntimeWarning: Binary file was saved with a different version of REBOUND. Binary format might have changed. Binary file was saved with REBOUND Version 4.4.7. You are currently using REBOUND Version 4.4.8.\n",
      "  warnings.warn(message, RuntimeWarning)\n",
      "/Users/honeyeah/miniconda3/envs/haniyeh_research/lib/python3.13/site-packages/rebound/simulationarchive.py:150: RuntimeWarning: Binary file was saved with a different version of REBOUND. Binary format might have changed.\n",
      "  warnings.warn(message, RuntimeWarning)\n",
      "/Users/honeyeah/miniconda3/envs/haniyeh_research/lib/python3.13/site-packages/rebound/simulationarchive.py:150: RuntimeWarning: You have to reset function pointers after creating a reb_simulation struct with a binary file.\n",
      "  warnings.warn(message, RuntimeWarning)\n",
      "/Users/honeyeah/miniconda3/envs/haniyeh_research/lib/python3.13/site-packages/rebound/simulationarchive.py:103: RuntimeWarning: Binary file was saved with a different version of REBOUND. Binary format might have changed. Binary file was saved with REBOUND Version 4.4.7. You are currently using REBOUND Version 4.4.8.\n",
      "  warnings.warn(message, RuntimeWarning)\n",
      "/Users/honeyeah/miniconda3/envs/haniyeh_research/lib/python3.13/site-packages/rebound/simulationarchive.py:150: RuntimeWarning: Binary file was saved with a different version of REBOUND. Binary format might have changed.\n",
      "  warnings.warn(message, RuntimeWarning)\n",
      "/Users/honeyeah/miniconda3/envs/haniyeh_research/lib/python3.13/site-packages/rebound/simulationarchive.py:150: RuntimeWarning: You have to reset function pointers after creating a reb_simulation struct with a binary file.\n",
      "  warnings.warn(message, RuntimeWarning)\n",
      "/Users/honeyeah/miniconda3/envs/haniyeh_research/lib/python3.13/site-packages/rebound/simulationarchive.py:103: RuntimeWarning: Binary file was saved with a different version of REBOUND. Binary format might have changed. Binary file was saved with REBOUND Version 4.4.7. You are currently using REBOUND Version 4.4.8.\n",
      "  warnings.warn(message, RuntimeWarning)\n",
      "/Users/honeyeah/miniconda3/envs/haniyeh_research/lib/python3.13/site-packages/rebound/simulationarchive.py:150: RuntimeWarning: Binary file was saved with a different version of REBOUND. Binary format might have changed.\n",
      "  warnings.warn(message, RuntimeWarning)\n",
      "/Users/honeyeah/miniconda3/envs/haniyeh_research/lib/python3.13/site-packages/rebound/simulationarchive.py:150: RuntimeWarning: You have to reset function pointers after creating a reb_simulation struct with a binary file.\n",
      "  warnings.warn(message, RuntimeWarning)\n",
      "/Users/honeyeah/miniconda3/envs/haniyeh_research/lib/python3.13/site-packages/rebound/simulationarchive.py:103: RuntimeWarning: Binary file was saved with a different version of REBOUND. Binary format might have changed. Binary file was saved with REBOUND Version 4.4.7. You are currently using REBOUND Version 4.4.8.\n",
      "  warnings.warn(message, RuntimeWarning)\n",
      "/Users/honeyeah/miniconda3/envs/haniyeh_research/lib/python3.13/site-packages/rebound/simulationarchive.py:150: RuntimeWarning: Binary file was saved with a different version of REBOUND. Binary format might have changed.\n",
      "  warnings.warn(message, RuntimeWarning)\n",
      "/Users/honeyeah/miniconda3/envs/haniyeh_research/lib/python3.13/site-packages/rebound/simulationarchive.py:150: RuntimeWarning: You have to reset function pointers after creating a reb_simulation struct with a binary file.\n",
      "  warnings.warn(message, RuntimeWarning)\n",
      "/Users/honeyeah/miniconda3/envs/haniyeh_research/lib/python3.13/site-packages/rebound/simulationarchive.py:103: RuntimeWarning: Binary file was saved with a different version of REBOUND. Binary format might have changed. Binary file was saved with REBOUND Version 4.4.7. You are currently using REBOUND Version 4.4.8.\n",
      "  warnings.warn(message, RuntimeWarning)\n",
      "/Users/honeyeah/miniconda3/envs/haniyeh_research/lib/python3.13/site-packages/rebound/simulationarchive.py:150: RuntimeWarning: Binary file was saved with a different version of REBOUND. Binary format might have changed.\n",
      "  warnings.warn(message, RuntimeWarning)\n",
      "/Users/honeyeah/miniconda3/envs/haniyeh_research/lib/python3.13/site-packages/rebound/simulationarchive.py:150: RuntimeWarning: You have to reset function pointers after creating a reb_simulation struct with a binary file.\n",
      "  warnings.warn(message, RuntimeWarning)\n",
      "/Users/honeyeah/miniconda3/envs/haniyeh_research/lib/python3.13/site-packages/rebound/simulationarchive.py:103: RuntimeWarning: Binary file was saved with a different version of REBOUND. Binary format might have changed. Binary file was saved with REBOUND Version 4.4.7. You are currently using REBOUND Version 4.4.8.\n",
      "  warnings.warn(message, RuntimeWarning)\n",
      "/Users/honeyeah/miniconda3/envs/haniyeh_research/lib/python3.13/site-packages/rebound/simulationarchive.py:150: RuntimeWarning: Binary file was saved with a different version of REBOUND. Binary format might have changed.\n",
      "  warnings.warn(message, RuntimeWarning)\n",
      "/Users/honeyeah/miniconda3/envs/haniyeh_research/lib/python3.13/site-packages/rebound/simulationarchive.py:150: RuntimeWarning: You have to reset function pointers after creating a reb_simulation struct with a binary file.\n",
      "  warnings.warn(message, RuntimeWarning)\n",
      "/Users/honeyeah/miniconda3/envs/haniyeh_research/lib/python3.13/site-packages/rebound/simulationarchive.py:103: RuntimeWarning: Binary file was saved with a different version of REBOUND. Binary format might have changed. Binary file was saved with REBOUND Version 4.4.7. You are currently using REBOUND Version 4.4.8.\n",
      "  warnings.warn(message, RuntimeWarning)\n",
      "/Users/honeyeah/miniconda3/envs/haniyeh_research/lib/python3.13/site-packages/rebound/simulationarchive.py:150: RuntimeWarning: Binary file was saved with a different version of REBOUND. Binary format might have changed.\n",
      "  warnings.warn(message, RuntimeWarning)\n",
      "/Users/honeyeah/miniconda3/envs/haniyeh_research/lib/python3.13/site-packages/rebound/simulationarchive.py:150: RuntimeWarning: You have to reset function pointers after creating a reb_simulation struct with a binary file.\n",
      "  warnings.warn(message, RuntimeWarning)\n",
      "/Users/honeyeah/miniconda3/envs/haniyeh_research/lib/python3.13/site-packages/rebound/simulationarchive.py:103: RuntimeWarning: Binary file was saved with a different version of REBOUND. Binary format might have changed. Binary file was saved with REBOUND Version 4.4.7. You are currently using REBOUND Version 4.4.8.\n",
      "  warnings.warn(message, RuntimeWarning)\n",
      "/Users/honeyeah/miniconda3/envs/haniyeh_research/lib/python3.13/site-packages/rebound/simulationarchive.py:150: RuntimeWarning: Binary file was saved with a different version of REBOUND. Binary format might have changed.\n",
      "  warnings.warn(message, RuntimeWarning)\n",
      "/Users/honeyeah/miniconda3/envs/haniyeh_research/lib/python3.13/site-packages/rebound/simulationarchive.py:150: RuntimeWarning: You have to reset function pointers after creating a reb_simulation struct with a binary file.\n",
      "  warnings.warn(message, RuntimeWarning)\n",
      "/Users/honeyeah/miniconda3/envs/haniyeh_research/lib/python3.13/site-packages/rebound/simulationarchive.py:103: RuntimeWarning: Binary file was saved with a different version of REBOUND. Binary format might have changed. Binary file was saved with REBOUND Version 4.4.7. You are currently using REBOUND Version 4.4.8.\n",
      "  warnings.warn(message, RuntimeWarning)\n",
      "/Users/honeyeah/miniconda3/envs/haniyeh_research/lib/python3.13/site-packages/rebound/simulationarchive.py:150: RuntimeWarning: Binary file was saved with a different version of REBOUND. Binary format might have changed.\n",
      "  warnings.warn(message, RuntimeWarning)\n",
      "/Users/honeyeah/miniconda3/envs/haniyeh_research/lib/python3.13/site-packages/rebound/simulationarchive.py:150: RuntimeWarning: You have to reset function pointers after creating a reb_simulation struct with a binary file.\n",
      "  warnings.warn(message, RuntimeWarning)\n",
      "/Users/honeyeah/miniconda3/envs/haniyeh_research/lib/python3.13/site-packages/rebound/simulationarchive.py:103: RuntimeWarning: Binary file was saved with a different version of REBOUND. Binary format might have changed. Binary file was saved with REBOUND Version 4.4.7. You are currently using REBOUND Version 4.4.8.\n",
      "  warnings.warn(message, RuntimeWarning)\n",
      "/Users/honeyeah/miniconda3/envs/haniyeh_research/lib/python3.13/site-packages/rebound/simulationarchive.py:150: RuntimeWarning: Binary file was saved with a different version of REBOUND. Binary format might have changed.\n",
      "  warnings.warn(message, RuntimeWarning)\n",
      "/Users/honeyeah/miniconda3/envs/haniyeh_research/lib/python3.13/site-packages/rebound/simulationarchive.py:150: RuntimeWarning: You have to reset function pointers after creating a reb_simulation struct with a binary file.\n",
      "  warnings.warn(message, RuntimeWarning)\n",
      "/Users/honeyeah/miniconda3/envs/haniyeh_research/lib/python3.13/site-packages/rebound/simulationarchive.py:103: RuntimeWarning: The binary file seems to be corrupted. An attempt has been made to read the uncorrupted parts of it.\n",
      "  warnings.warn(message, RuntimeWarning)\n",
      "/Users/honeyeah/miniconda3/envs/haniyeh_research/lib/python3.13/site-packages/rebound/simulationarchive.py:103: RuntimeWarning: Binary file was saved with a different version of REBOUND. Binary format might have changed. Binary file was saved with REBOUND Version 4.4.7. You are currently using REBOUND Version 4.4.8.\n",
      "  warnings.warn(message, RuntimeWarning)\n",
      "/Users/honeyeah/miniconda3/envs/haniyeh_research/lib/python3.13/site-packages/rebound/simulationarchive.py:150: RuntimeWarning: Binary file was saved with a different version of REBOUND. Binary format might have changed.\n",
      "  warnings.warn(message, RuntimeWarning)\n",
      "/Users/honeyeah/miniconda3/envs/haniyeh_research/lib/python3.13/site-packages/rebound/simulationarchive.py:150: RuntimeWarning: You have to reset function pointers after creating a reb_simulation struct with a binary file.\n",
      "  warnings.warn(message, RuntimeWarning)\n",
      "/Users/honeyeah/miniconda3/envs/haniyeh_research/lib/python3.13/site-packages/rebound/simulationarchive.py:103: RuntimeWarning: Binary file was saved with a different version of REBOUND. Binary format might have changed. Binary file was saved with REBOUND Version 4.4.7. You are currently using REBOUND Version 4.4.8.\n",
      "  warnings.warn(message, RuntimeWarning)\n",
      "/Users/honeyeah/miniconda3/envs/haniyeh_research/lib/python3.13/site-packages/rebound/simulationarchive.py:150: RuntimeWarning: Binary file was saved with a different version of REBOUND. Binary format might have changed.\n",
      "  warnings.warn(message, RuntimeWarning)\n",
      "/Users/honeyeah/miniconda3/envs/haniyeh_research/lib/python3.13/site-packages/rebound/simulationarchive.py:150: RuntimeWarning: You have to reset function pointers after creating a reb_simulation struct with a binary file.\n",
      "  warnings.warn(message, RuntimeWarning)\n",
      "/Users/honeyeah/miniconda3/envs/haniyeh_research/lib/python3.13/site-packages/rebound/simulationarchive.py:103: RuntimeWarning: Binary file was saved with a different version of REBOUND. Binary format might have changed. Binary file was saved with REBOUND Version 4.4.7. You are currently using REBOUND Version 4.4.8.\n",
      "  warnings.warn(message, RuntimeWarning)\n",
      "/Users/honeyeah/miniconda3/envs/haniyeh_research/lib/python3.13/site-packages/rebound/simulationarchive.py:150: RuntimeWarning: Binary file was saved with a different version of REBOUND. Binary format might have changed.\n",
      "  warnings.warn(message, RuntimeWarning)\n",
      "/Users/honeyeah/miniconda3/envs/haniyeh_research/lib/python3.13/site-packages/rebound/simulationarchive.py:150: RuntimeWarning: You have to reset function pointers after creating a reb_simulation struct with a binary file.\n",
      "  warnings.warn(message, RuntimeWarning)\n",
      "/Users/honeyeah/miniconda3/envs/haniyeh_research/lib/python3.13/site-packages/rebound/simulationarchive.py:103: RuntimeWarning: Binary file was saved with a different version of REBOUND. Binary format might have changed. Binary file was saved with REBOUND Version 4.4.7. You are currently using REBOUND Version 4.4.8.\n",
      "  warnings.warn(message, RuntimeWarning)\n",
      "/Users/honeyeah/miniconda3/envs/haniyeh_research/lib/python3.13/site-packages/rebound/simulationarchive.py:150: RuntimeWarning: Binary file was saved with a different version of REBOUND. Binary format might have changed.\n",
      "  warnings.warn(message, RuntimeWarning)\n",
      "/Users/honeyeah/miniconda3/envs/haniyeh_research/lib/python3.13/site-packages/rebound/simulationarchive.py:150: RuntimeWarning: You have to reset function pointers after creating a reb_simulation struct with a binary file.\n",
      "  warnings.warn(message, RuntimeWarning)\n",
      "/Users/honeyeah/miniconda3/envs/haniyeh_research/lib/python3.13/site-packages/rebound/simulationarchive.py:103: RuntimeWarning: Binary file was saved with a different version of REBOUND. Binary format might have changed. Binary file was saved with REBOUND Version 4.4.7. You are currently using REBOUND Version 4.4.8.\n",
      "  warnings.warn(message, RuntimeWarning)\n",
      "/Users/honeyeah/miniconda3/envs/haniyeh_research/lib/python3.13/site-packages/rebound/simulationarchive.py:150: RuntimeWarning: Binary file was saved with a different version of REBOUND. Binary format might have changed.\n",
      "  warnings.warn(message, RuntimeWarning)\n",
      "/Users/honeyeah/miniconda3/envs/haniyeh_research/lib/python3.13/site-packages/rebound/simulationarchive.py:150: RuntimeWarning: You have to reset function pointers after creating a reb_simulation struct with a binary file.\n",
      "  warnings.warn(message, RuntimeWarning)\n",
      "/Users/honeyeah/miniconda3/envs/haniyeh_research/lib/python3.13/site-packages/rebound/simulationarchive.py:103: RuntimeWarning: Binary file was saved with a different version of REBOUND. Binary format might have changed. Binary file was saved with REBOUND Version 4.4.7. You are currently using REBOUND Version 4.4.8.\n",
      "  warnings.warn(message, RuntimeWarning)\n",
      "/Users/honeyeah/miniconda3/envs/haniyeh_research/lib/python3.13/site-packages/rebound/simulationarchive.py:103: RuntimeWarning: The binary file seems to be corrupted. An attempt has been made to read the uncorrupted parts of it.\n",
      "  warnings.warn(message, RuntimeWarning)\n",
      "/Users/honeyeah/miniconda3/envs/haniyeh_research/lib/python3.13/site-packages/rebound/simulationarchive.py:150: RuntimeWarning: Binary file was saved with a different version of REBOUND. Binary format might have changed.\n",
      "  warnings.warn(message, RuntimeWarning)\n",
      "/Users/honeyeah/miniconda3/envs/haniyeh_research/lib/python3.13/site-packages/rebound/simulationarchive.py:150: RuntimeWarning: You have to reset function pointers after creating a reb_simulation struct with a binary file.\n",
      "  warnings.warn(message, RuntimeWarning)\n",
      "/Users/honeyeah/miniconda3/envs/haniyeh_research/lib/python3.13/site-packages/rebound/simulationarchive.py:103: RuntimeWarning: Binary file was saved with a different version of REBOUND. Binary format might have changed. Binary file was saved with REBOUND Version 4.4.7. You are currently using REBOUND Version 4.4.8.\n",
      "  warnings.warn(message, RuntimeWarning)\n",
      "/Users/honeyeah/miniconda3/envs/haniyeh_research/lib/python3.13/site-packages/rebound/simulationarchive.py:150: RuntimeWarning: Binary file was saved with a different version of REBOUND. Binary format might have changed.\n",
      "  warnings.warn(message, RuntimeWarning)\n",
      "/Users/honeyeah/miniconda3/envs/haniyeh_research/lib/python3.13/site-packages/rebound/simulationarchive.py:150: RuntimeWarning: You have to reset function pointers after creating a reb_simulation struct with a binary file.\n",
      "  warnings.warn(message, RuntimeWarning)\n",
      "/Users/honeyeah/miniconda3/envs/haniyeh_research/lib/python3.13/site-packages/rebound/simulationarchive.py:103: RuntimeWarning: Binary file was saved with a different version of REBOUND. Binary format might have changed. Binary file was saved with REBOUND Version 4.4.7. You are currently using REBOUND Version 4.4.8.\n",
      "  warnings.warn(message, RuntimeWarning)\n",
      "/Users/honeyeah/miniconda3/envs/haniyeh_research/lib/python3.13/site-packages/rebound/simulationarchive.py:150: RuntimeWarning: Binary file was saved with a different version of REBOUND. Binary format might have changed.\n",
      "  warnings.warn(message, RuntimeWarning)\n",
      "/Users/honeyeah/miniconda3/envs/haniyeh_research/lib/python3.13/site-packages/rebound/simulationarchive.py:150: RuntimeWarning: You have to reset function pointers after creating a reb_simulation struct with a binary file.\n",
      "  warnings.warn(message, RuntimeWarning)\n",
      "/Users/honeyeah/miniconda3/envs/haniyeh_research/lib/python3.13/site-packages/rebound/simulationarchive.py:103: RuntimeWarning: Binary file was saved with a different version of REBOUND. Binary format might have changed. Binary file was saved with REBOUND Version 4.4.7. You are currently using REBOUND Version 4.4.8.\n",
      "  warnings.warn(message, RuntimeWarning)\n",
      "/Users/honeyeah/miniconda3/envs/haniyeh_research/lib/python3.13/site-packages/rebound/simulationarchive.py:150: RuntimeWarning: Binary file was saved with a different version of REBOUND. Binary format might have changed.\n",
      "  warnings.warn(message, RuntimeWarning)\n",
      "/Users/honeyeah/miniconda3/envs/haniyeh_research/lib/python3.13/site-packages/rebound/simulationarchive.py:150: RuntimeWarning: You have to reset function pointers after creating a reb_simulation struct with a binary file.\n",
      "  warnings.warn(message, RuntimeWarning)\n",
      "/Users/honeyeah/miniconda3/envs/haniyeh_research/lib/python3.13/site-packages/rebound/simulationarchive.py:103: RuntimeWarning: Binary file was saved with a different version of REBOUND. Binary format might have changed. Binary file was saved with REBOUND Version 4.4.7. You are currently using REBOUND Version 4.4.8.\n",
      "  warnings.warn(message, RuntimeWarning)\n",
      "/Users/honeyeah/miniconda3/envs/haniyeh_research/lib/python3.13/site-packages/rebound/simulationarchive.py:150: RuntimeWarning: Binary file was saved with a different version of REBOUND. Binary format might have changed.\n",
      "  warnings.warn(message, RuntimeWarning)\n",
      "/Users/honeyeah/miniconda3/envs/haniyeh_research/lib/python3.13/site-packages/rebound/simulationarchive.py:150: RuntimeWarning: You have to reset function pointers after creating a reb_simulation struct with a binary file.\n",
      "  warnings.warn(message, RuntimeWarning)\n",
      "/Users/honeyeah/miniconda3/envs/haniyeh_research/lib/python3.13/site-packages/rebound/simulationarchive.py:103: RuntimeWarning: Binary file was saved with a different version of REBOUND. Binary format might have changed. Binary file was saved with REBOUND Version 4.4.7. You are currently using REBOUND Version 4.4.8.\n",
      "  warnings.warn(message, RuntimeWarning)\n",
      "/Users/honeyeah/miniconda3/envs/haniyeh_research/lib/python3.13/site-packages/rebound/simulationarchive.py:150: RuntimeWarning: Binary file was saved with a different version of REBOUND. Binary format might have changed.\n",
      "  warnings.warn(message, RuntimeWarning)\n",
      "/Users/honeyeah/miniconda3/envs/haniyeh_research/lib/python3.13/site-packages/rebound/simulationarchive.py:150: RuntimeWarning: You have to reset function pointers after creating a reb_simulation struct with a binary file.\n",
      "  warnings.warn(message, RuntimeWarning)\n",
      "/Users/honeyeah/miniconda3/envs/haniyeh_research/lib/python3.13/site-packages/rebound/simulationarchive.py:103: RuntimeWarning: Binary file was saved with a different version of REBOUND. Binary format might have changed. Binary file was saved with REBOUND Version 4.4.7. You are currently using REBOUND Version 4.4.8.\n",
      "  warnings.warn(message, RuntimeWarning)\n",
      "/Users/honeyeah/miniconda3/envs/haniyeh_research/lib/python3.13/site-packages/rebound/simulationarchive.py:150: RuntimeWarning: Binary file was saved with a different version of REBOUND. Binary format might have changed.\n",
      "  warnings.warn(message, RuntimeWarning)\n",
      "/Users/honeyeah/miniconda3/envs/haniyeh_research/lib/python3.13/site-packages/rebound/simulationarchive.py:150: RuntimeWarning: You have to reset function pointers after creating a reb_simulation struct with a binary file.\n",
      "  warnings.warn(message, RuntimeWarning)\n",
      "/Users/honeyeah/miniconda3/envs/haniyeh_research/lib/python3.13/site-packages/rebound/simulationarchive.py:103: RuntimeWarning: Binary file was saved with a different version of REBOUND. Binary format might have changed. Binary file was saved with REBOUND Version 4.4.7. You are currently using REBOUND Version 4.4.8.\n",
      "  warnings.warn(message, RuntimeWarning)\n",
      "/Users/honeyeah/miniconda3/envs/haniyeh_research/lib/python3.13/site-packages/rebound/simulationarchive.py:150: RuntimeWarning: Binary file was saved with a different version of REBOUND. Binary format might have changed.\n",
      "  warnings.warn(message, RuntimeWarning)\n",
      "/Users/honeyeah/miniconda3/envs/haniyeh_research/lib/python3.13/site-packages/rebound/simulationarchive.py:150: RuntimeWarning: You have to reset function pointers after creating a reb_simulation struct with a binary file.\n",
      "  warnings.warn(message, RuntimeWarning)\n",
      "/Users/honeyeah/miniconda3/envs/haniyeh_research/lib/python3.13/site-packages/rebound/simulationarchive.py:103: RuntimeWarning: Binary file was saved with a different version of REBOUND. Binary format might have changed. Binary file was saved with REBOUND Version 4.4.7. You are currently using REBOUND Version 4.4.8.\n",
      "  warnings.warn(message, RuntimeWarning)\n",
      "/Users/honeyeah/miniconda3/envs/haniyeh_research/lib/python3.13/site-packages/rebound/simulationarchive.py:150: RuntimeWarning: Binary file was saved with a different version of REBOUND. Binary format might have changed.\n",
      "  warnings.warn(message, RuntimeWarning)\n",
      "/Users/honeyeah/miniconda3/envs/haniyeh_research/lib/python3.13/site-packages/rebound/simulationarchive.py:150: RuntimeWarning: You have to reset function pointers after creating a reb_simulation struct with a binary file.\n",
      "  warnings.warn(message, RuntimeWarning)\n",
      "/Users/honeyeah/miniconda3/envs/haniyeh_research/lib/python3.13/site-packages/rebound/simulationarchive.py:103: RuntimeWarning: Binary file was saved with a different version of REBOUND. Binary format might have changed. Binary file was saved with REBOUND Version 4.4.7. You are currently using REBOUND Version 4.4.8.\n",
      "  warnings.warn(message, RuntimeWarning)\n",
      "/Users/honeyeah/miniconda3/envs/haniyeh_research/lib/python3.13/site-packages/rebound/simulationarchive.py:150: RuntimeWarning: Binary file was saved with a different version of REBOUND. Binary format might have changed.\n",
      "  warnings.warn(message, RuntimeWarning)\n",
      "/Users/honeyeah/miniconda3/envs/haniyeh_research/lib/python3.13/site-packages/rebound/simulationarchive.py:150: RuntimeWarning: You have to reset function pointers after creating a reb_simulation struct with a binary file.\n",
      "  warnings.warn(message, RuntimeWarning)\n",
      "/Users/honeyeah/miniconda3/envs/haniyeh_research/lib/python3.13/site-packages/rebound/simulationarchive.py:103: RuntimeWarning: Binary file was saved with a different version of REBOUND. Binary format might have changed. Binary file was saved with REBOUND Version 4.4.7. You are currently using REBOUND Version 4.4.8.\n",
      "  warnings.warn(message, RuntimeWarning)\n",
      "/Users/honeyeah/miniconda3/envs/haniyeh_research/lib/python3.13/site-packages/rebound/simulationarchive.py:150: RuntimeWarning: Binary file was saved with a different version of REBOUND. Binary format might have changed.\n",
      "  warnings.warn(message, RuntimeWarning)\n",
      "/Users/honeyeah/miniconda3/envs/haniyeh_research/lib/python3.13/site-packages/rebound/simulationarchive.py:150: RuntimeWarning: You have to reset function pointers after creating a reb_simulation struct with a binary file.\n",
      "  warnings.warn(message, RuntimeWarning)\n",
      "/Users/honeyeah/miniconda3/envs/haniyeh_research/lib/python3.13/site-packages/rebound/simulationarchive.py:103: RuntimeWarning: Binary file was saved with a different version of REBOUND. Binary format might have changed. Binary file was saved with REBOUND Version 4.4.7. You are currently using REBOUND Version 4.4.8.\n",
      "  warnings.warn(message, RuntimeWarning)\n",
      "/Users/honeyeah/miniconda3/envs/haniyeh_research/lib/python3.13/site-packages/rebound/simulationarchive.py:150: RuntimeWarning: Binary file was saved with a different version of REBOUND. Binary format might have changed.\n",
      "  warnings.warn(message, RuntimeWarning)\n",
      "/Users/honeyeah/miniconda3/envs/haniyeh_research/lib/python3.13/site-packages/rebound/simulationarchive.py:150: RuntimeWarning: You have to reset function pointers after creating a reb_simulation struct with a binary file.\n",
      "  warnings.warn(message, RuntimeWarning)\n",
      "/Users/honeyeah/miniconda3/envs/haniyeh_research/lib/python3.13/site-packages/rebound/simulationarchive.py:103: RuntimeWarning: Binary file was saved with a different version of REBOUND. Binary format might have changed. Binary file was saved with REBOUND Version 4.4.7. You are currently using REBOUND Version 4.4.8.\n",
      "  warnings.warn(message, RuntimeWarning)\n",
      "/Users/honeyeah/miniconda3/envs/haniyeh_research/lib/python3.13/site-packages/rebound/simulationarchive.py:150: RuntimeWarning: Binary file was saved with a different version of REBOUND. Binary format might have changed.\n",
      "  warnings.warn(message, RuntimeWarning)\n",
      "/Users/honeyeah/miniconda3/envs/haniyeh_research/lib/python3.13/site-packages/rebound/simulationarchive.py:150: RuntimeWarning: You have to reset function pointers after creating a reb_simulation struct with a binary file.\n",
      "  warnings.warn(message, RuntimeWarning)\n",
      "/Users/honeyeah/miniconda3/envs/haniyeh_research/lib/python3.13/site-packages/rebound/simulationarchive.py:103: RuntimeWarning: Binary file was saved with a different version of REBOUND. Binary format might have changed. Binary file was saved with REBOUND Version 4.4.7. You are currently using REBOUND Version 4.4.8.\n",
      "  warnings.warn(message, RuntimeWarning)\n",
      "/Users/honeyeah/miniconda3/envs/haniyeh_research/lib/python3.13/site-packages/rebound/simulationarchive.py:150: RuntimeWarning: Binary file was saved with a different version of REBOUND. Binary format might have changed.\n",
      "  warnings.warn(message, RuntimeWarning)\n",
      "/Users/honeyeah/miniconda3/envs/haniyeh_research/lib/python3.13/site-packages/rebound/simulationarchive.py:150: RuntimeWarning: You have to reset function pointers after creating a reb_simulation struct with a binary file.\n",
      "  warnings.warn(message, RuntimeWarning)\n"
     ]
    }
   ],
   "source": [
    "ueda_v3_pldf_list = rr.get_pldfs_uniform(\"/Users/honeyeah/Codes/data/\", \"ueda_v3\", \"ueda_v3_\", 30, 2.99e6, 0.33)\n",
    "cham_cont_pldf_list = rr.get_pldfs_uniform(\"/Users/honeyeah/Codes/data/\", \"cham_cont\", \"cham_cont_\", 30, 2.99e6, 0.33)\n",
    "cham_bench_pldf_list = rr.get_pldfs_uniform(\"/Users/honeyeah/Codes/data/\", \"cham_bench\", \"cham_simarchive_\", 30, 2.99e6, 0.33)"
   ]
  },
  {
   "cell_type": "code",
   "execution_count": 10,
   "id": "733a2b89",
   "metadata": {},
   "outputs": [],
   "source": [
    "ueda_v3_pldf = pd.concat(ueda_v3_pldf_list)\n",
    "cham_bench_pldf = pd.concat(cham_bench_pldf_list)\n",
    "cham_cont_pldf = pd.concat(cham_cont_pldf_list)"
   ]
  },
  {
   "cell_type": "code",
   "execution_count": 72,
   "id": "18d70e27",
   "metadata": {},
   "outputs": [],
   "source": [
    "def mercury_sim_index(masses, cmfs):\n",
    "    cmf_merc =  mercury['CMF'].values[0]\n",
    "    mass_merc =  mercury['m'].values[0]\n",
    "    cmf_diff = np.sum(((cmfs - cmf_merc)/( np.average( np.concatenate((mercury['CMF'], cmfs)) )))**2)\n",
    "    masses_diff = np.sum(((masses - mass_merc)/( np.average( np.concatenate((mercury['m'], masses)) ) ))**2)\n",
    "\n",
    "    index = np.sqrt(cmf_diff + masses_diff)\n",
    "    return index\n",
    "\n",
    "def mercury_sim_index_cmf_only(cmfs):\n",
    "    cmf_merc =  mercury['CMF'].values[0]\n",
    "    cmf_diff = np.sum(((cmfs - cmf_merc)/( np.average( np.concatenate((mercury['CMF'], cmfs)) )))**2)\n",
    "\n",
    "    index = np.sqrt(cmf_diff)\n",
    "    return index"
   ]
  },
  {
   "cell_type": "code",
   "execution_count": 115,
   "id": "26c3e623",
   "metadata": {},
   "outputs": [],
   "source": [
    "#Mercury similarity conditions\n",
    "semi_lower_bound = mercury['a'].values[0] - 0.02\n",
    "semi_upper_bound = mercury['a'].values[0] + 0.02\n",
    "\n",
    "ueda_v3_mercs = ueda_v3_pldf[(ueda_v3_pldf['semi'] > semi_lower_bound) & (ueda_v3_pldf['semi'] < semi_upper_bound)]\n",
    "cham_bench_mercs = cham_bench_pldf[(cham_bench_pldf['semi'] > semi_lower_bound) & (cham_bench_pldf['semi'] < semi_upper_bound)]\n",
    "cham_cont_mercs = cham_cont_pldf[(cham_cont_pldf['semi'] > semi_lower_bound) & (cham_cont_pldf['semi'] < semi_upper_bound)]"
   ]
  },
  {
   "cell_type": "code",
   "execution_count": 116,
   "id": "75fb3744",
   "metadata": {},
   "outputs": [
    {
     "name": "stdout",
     "output_type": "stream",
     "text": [
      "Ueda_v3\n",
      "Merc similarity index =  3.1946433349684256\n",
      "Merc similarity index, CMF only =  1.6533415335160064\n"
     ]
    }
   ],
   "source": [
    "ueda_inds = mercury_sim_index(ueda_v3_mercs['mass'].values * sol_to_earth, ueda_v3_mercs['cmf'].values)\n",
    "ueda_inds_cmf = mercury_sim_index_cmf_only(ueda_v3_mercs['cmf'].values)\n",
    "print(\"Ueda_v3\")\n",
    "print(\"Merc similarity index = \", ueda_inds)\n",
    "print(\"Merc similarity index, CMF only = \", ueda_inds_cmf)"
   ]
  },
  {
   "cell_type": "code",
   "execution_count": 117,
   "id": "4e8dac9c",
   "metadata": {},
   "outputs": [
    {
     "name": "stdout",
     "output_type": "stream",
     "text": [
      "cham_bench\n",
      "Merc similarity index =  3.0930589549638516\n",
      "Merc similarity index, CMF only =  1.995405254514605\n"
     ]
    }
   ],
   "source": [
    "cham_bench_inds = mercury_sim_index(cham_bench_mercs['mass'].values * sol_to_earth, cham_bench_mercs['cmf'].values)\n",
    "cham_bench_inds_cmf = mercury_sim_index_cmf_only(cham_bench_mercs['cmf'].values)\n",
    "print(\"cham_bench\")\n",
    "print(\"Merc similarity index = \", cham_bench_inds)\n",
    "print(\"Merc similarity index, CMF only = \", cham_bench_inds_cmf)"
   ]
  },
  {
   "cell_type": "code",
   "execution_count": 118,
   "id": "75f66043",
   "metadata": {},
   "outputs": [
    {
     "name": "stdout",
     "output_type": "stream",
     "text": [
      "cham_cont\n",
      "Merc similarity index =  5.177623223803049\n",
      "Merc similarity index, CMF only =  2.346861158997646\n"
     ]
    }
   ],
   "source": [
    "cham_cont_inds = mercury_sim_index(cham_cont_mercs['mass'].values * sol_to_earth, cham_cont_mercs['cmf'].values)\n",
    "cham_cont_inds_cmf = mercury_sim_index_cmf_only(cham_cont_mercs['cmf'].values)\n",
    "print(\"cham_cont\")\n",
    "print(\"Merc similarity index = \", cham_cont_inds)\n",
    "print(\"Merc similarity index, CMF only = \", cham_cont_inds_cmf)"
   ]
  },
  {
   "cell_type": "markdown",
   "id": "e5c9c5a3",
   "metadata": {},
   "source": [
    "# Step funcs"
   ]
  },
  {
   "cell_type": "code",
   "execution_count": 119,
   "id": "7762b8a3",
   "metadata": {},
   "outputs": [],
   "source": [
    "ueda_steps = pd.read_csv(\"ueda_v3_grid_fulldf.csv\")\n",
    "cham_bench_steps = pd.read_csv(\"cham_bench_grid_fulldf.csv\")\n",
    "cham_cont_steps = pd.read_csv(\"cham_cont_grid_fulldf.csv\")\n",
    "\n",
    "ueda_steps_mercs = ueda_steps[(ueda_steps['semi'] > semi_lower_bound) & (ueda_steps['semi'] < semi_upper_bound)]\n",
    "cham_bench_steps_mercs = cham_bench_steps[(cham_bench_steps['semi'] > semi_lower_bound) & (cham_bench_steps['semi'] < semi_upper_bound)]\n",
    "cham_cont_steps_mercs = cham_cont_steps[(cham_cont_steps['semi'] > semi_lower_bound) & (cham_cont_steps['semi'] < semi_upper_bound)]"
   ]
  },
  {
   "cell_type": "code",
   "execution_count": 120,
   "id": "5eecb112",
   "metadata": {},
   "outputs": [
    {
     "name": "stdout",
     "output_type": "stream",
     "text": [
      "Ueda_v3\n",
      "Merc similarity index =  5.113743141296523\n",
      "Merc similarity index, CMF only =  3.6920503887898852\n"
     ]
    }
   ],
   "source": [
    "ueda_inds_step = mercury_sim_index(ueda_steps_mercs['mass'].values * sol_to_earth, ueda_steps_mercs['cmf'].values)\n",
    "ueda_inds_cmf_step = mercury_sim_index_cmf_only(ueda_steps_mercs['cmf'].values)\n",
    "print(\"Ueda_v3\")\n",
    "print(\"Merc similarity index = \", ueda_inds_step)\n",
    "print(\"Merc similarity index, CMF only = \", ueda_inds_cmf_step)"
   ]
  },
  {
   "cell_type": "code",
   "execution_count": 121,
   "id": "7a584a50",
   "metadata": {},
   "outputs": [
    {
     "name": "stdout",
     "output_type": "stream",
     "text": [
      "cham_bench\n",
      "Merc similarity index =  6.121582080563127\n",
      "Merc similarity index, CMF only =  2.436891063858064\n"
     ]
    }
   ],
   "source": [
    "cham_bench_inds_step = mercury_sim_index(cham_bench_steps_mercs['mass'].values * sol_to_earth, cham_bench_steps_mercs['cmf'].values)\n",
    "cham_bench_inds_cmf_step = mercury_sim_index_cmf_only(cham_bench_steps_mercs['cmf'].values)\n",
    "print(\"cham_bench\")\n",
    "print(\"Merc similarity index = \", cham_bench_inds_step)\n",
    "print(\"Merc similarity index, CMF only = \", cham_bench_inds_cmf_step)"
   ]
  },
  {
   "cell_type": "code",
   "execution_count": 122,
   "id": "08068016",
   "metadata": {},
   "outputs": [
    {
     "name": "stdout",
     "output_type": "stream",
     "text": [
      "cham_cont\n",
      "Merc similarity index =  7.888552978816908\n",
      "Merc similarity index, CMF only =  1.4445759663366096\n"
     ]
    }
   ],
   "source": [
    "cham_cont_inds_step = mercury_sim_index(cham_cont_steps_mercs['mass'].values * sol_to_earth, cham_cont_steps_mercs['cmf'].values)\n",
    "cham_cont_inds_cmf_step = mercury_sim_index_cmf_only(cham_cont_steps_mercs['cmf'].values)\n",
    "print(\"cham_cont\")\n",
    "print(\"Merc similarity index = \", cham_cont_inds_step)\n",
    "print(\"Merc similarity index, CMF only = \", cham_cont_inds_cmf_step)"
   ]
  },
  {
   "cell_type": "code",
   "execution_count": 131,
   "id": "aea0ac41",
   "metadata": {},
   "outputs": [
    {
     "data": {
      "text/plain": [
       "np.float64(0.2516965045149166)"
      ]
     },
     "execution_count": 131,
     "metadata": {},
     "output_type": "execute_result"
    }
   ],
   "source": [
    "np.sqrt(np.sum(((cham_cont_steps_mercs['cmf'] - 0.7)/(np.average(cham_cont_steps_mercs['cmf'])))**2)/len(cham_cont_steps_mercs['cmf']))"
   ]
  },
  {
   "cell_type": "code",
   "execution_count": 134,
   "id": "59d8ad0c",
   "metadata": {},
   "outputs": [],
   "source": [
    "def mercury_sim_index_divide(masses, cmfs):\n",
    "    cmf_merc =  mercury['CMF'].values[0]\n",
    "    mass_merc =  mercury['m'].values[0]\n",
    "    cmf_diff = np.sum(((cmfs - cmf_merc)/( np.average( np.concatenate((mercury['CMF'], cmfs)) )))**2)\n",
    "    masses_diff = np.sum(((masses - mass_merc)/( np.average( np.concatenate((mercury['m'], masses)) ) ))**2)\n",
    "\n",
    "    index = np.sqrt(cmf_diff/len(cmfs) + masses_diff/len(masses))\n",
    "    return index"
   ]
  },
  {
   "cell_type": "code",
   "execution_count": 135,
   "id": "4817268b",
   "metadata": {},
   "outputs": [
    {
     "name": "stdout",
     "output_type": "stream",
     "text": [
      "cham_cont\n",
      "Merc similarity index =  1.373220811434785\n"
     ]
    }
   ],
   "source": [
    "cham_cont_inds_step_div = mercury_sim_index_divide(cham_cont_steps_mercs['mass'].values * sol_to_earth, cham_cont_steps_mercs['cmf'].values)\n",
    "\n",
    "print(\"cham_cont\")\n",
    "print(\"Merc similarity index = \", cham_cont_inds_step_div)"
   ]
  },
  {
   "cell_type": "code",
   "execution_count": null,
   "id": "58653c47",
   "metadata": {},
   "outputs": [],
   "source": []
  }
 ],
 "metadata": {
  "kernelspec": {
   "display_name": "haniyeh_research",
   "language": "python",
   "name": "python3"
  },
  "language_info": {
   "codemirror_mode": {
    "name": "ipython",
    "version": 3
   },
   "file_extension": ".py",
   "mimetype": "text/x-python",
   "name": "python",
   "nbconvert_exporter": "python",
   "pygments_lexer": "ipython3",
   "version": "3.13.2"
  }
 },
 "nbformat": 4,
 "nbformat_minor": 5
}
