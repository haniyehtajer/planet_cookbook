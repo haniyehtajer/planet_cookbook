{
 "cells": [
  {
   "cell_type": "code",
   "execution_count": 1,
   "id": "04591c21",
   "metadata": {},
   "outputs": [],
   "source": [
    "import numpy as np\n",
    "import matplotlib.pyplot as plt\n",
    "from matplotlib import rcParams\n",
    "from matplotlib.ticker import ScalarFormatter\n",
    "%matplotlib inline\n",
    "import pandas as pd\n",
    "from planet_cookbook import read_reports as rr\n",
    "import os\n",
    "import rebound\n",
    "import seaborn as sns\n",
    "\n",
    "sol_to_earth = 332946.078\n",
    "G = 6.6743* 10**(-11) #N⋅m2/kg2\n",
    "M_sun = 1.989e+33 #g\n",
    "AU = 1.496e+13 #cm"
   ]
  },
  {
   "cell_type": "code",
   "execution_count": 2,
   "id": "c86edec0",
   "metadata": {},
   "outputs": [],
   "source": [
    "params = {\n",
    "   'axes.labelsize': 20,\n",
    "   'font.size': 20,\n",
    "   'legend.fontsize': 10,\n",
    "   'xtick.labelsize': 20,\n",
    "   'ytick.labelsize': 15,\n",
    "   'text.usetex': True, #to use TeX in your labels\n",
    "   'font.family':'serif',\n",
    "   'axes.titlesize': 15\n",
    "   }\n",
    "rcParams.update(params)"
   ]
  },
  {
   "cell_type": "code",
   "execution_count": 3,
   "id": "cd5f45ed",
   "metadata": {},
   "outputs": [],
   "source": [
    "#Color-blind friendly pallete\n",
    "colors = [\n",
    "    \"#0C7BDC\",  # Vibrant Blue\n",
    "    \"#E66100\",  # Bright Orange\n",
    "    \"#40B0A6\",  # Teal/Aqua\n",
    "    \"#8B8D8B\",  # Medium Grey\n",
    "    \"#5D3A9B\"   # Muted Purple\n",
    "]\n",
    "\n",
    "vib_blue = \"#0C7BDC\"\n",
    "teal = \"#40B0A6\"\n",
    "purple = \"#5D3A9B\" "
   ]
  },
  {
   "cell_type": "code",
   "execution_count": 4,
   "id": "3b4202ad",
   "metadata": {},
   "outputs": [],
   "source": [
    "solar_system_df = pd.read_csv('solarsystem.csv')\n",
    "mercury = solar_system_df[solar_system_df['name'] == 'Mercury']\n",
    "venus = solar_system_df[solar_system_df['name'] == 'Venus']\n",
    "earth = solar_system_df[solar_system_df['name'] == 'Earth']\n",
    "mars = solar_system_df[solar_system_df['name'] == 'Mars']"
   ]
  },
  {
   "cell_type": "code",
   "execution_count": 5,
   "id": "48316c6b",
   "metadata": {},
   "outputs": [
    {
     "name": "stderr",
     "output_type": "stream",
     "text": [
      "/Users/honeyeah/miniconda3/envs/haniyeh_research/lib/python3.13/site-packages/rebound/simulationarchive.py:103: RuntimeWarning: Binary file was saved with a different version of REBOUND. Binary format might have changed. Binary file was saved with REBOUND Version 4.4.7. You are currently using REBOUND Version 4.4.8.\n",
      "  warnings.warn(message, RuntimeWarning)\n",
      "/Users/honeyeah/miniconda3/envs/haniyeh_research/lib/python3.13/site-packages/rebound/simulationarchive.py:150: RuntimeWarning: Binary file was saved with a different version of REBOUND. Binary format might have changed.\n",
      "  warnings.warn(message, RuntimeWarning)\n",
      "/Users/honeyeah/miniconda3/envs/haniyeh_research/lib/python3.13/site-packages/rebound/simulationarchive.py:150: RuntimeWarning: You have to reset function pointers after creating a reb_simulation struct with a binary file.\n",
      "  warnings.warn(message, RuntimeWarning)\n",
      "/Users/honeyeah/miniconda3/envs/haniyeh_research/lib/python3.13/site-packages/rebound/simulationarchive.py:103: RuntimeWarning: Binary file was saved with a different version of REBOUND. Binary format might have changed. Binary file was saved with REBOUND Version 4.4.7. You are currently using REBOUND Version 4.4.8.\n",
      "  warnings.warn(message, RuntimeWarning)\n",
      "/Users/honeyeah/miniconda3/envs/haniyeh_research/lib/python3.13/site-packages/rebound/simulationarchive.py:150: RuntimeWarning: Binary file was saved with a different version of REBOUND. Binary format might have changed.\n",
      "  warnings.warn(message, RuntimeWarning)\n",
      "/Users/honeyeah/miniconda3/envs/haniyeh_research/lib/python3.13/site-packages/rebound/simulationarchive.py:150: RuntimeWarning: You have to reset function pointers after creating a reb_simulation struct with a binary file.\n",
      "  warnings.warn(message, RuntimeWarning)\n",
      "/Users/honeyeah/miniconda3/envs/haniyeh_research/lib/python3.13/site-packages/rebound/simulationarchive.py:103: RuntimeWarning: Binary file was saved with a different version of REBOUND. Binary format might have changed. Binary file was saved with REBOUND Version 4.4.7. You are currently using REBOUND Version 4.4.8.\n",
      "  warnings.warn(message, RuntimeWarning)\n",
      "/Users/honeyeah/miniconda3/envs/haniyeh_research/lib/python3.13/site-packages/rebound/simulationarchive.py:150: RuntimeWarning: Binary file was saved with a different version of REBOUND. Binary format might have changed.\n",
      "  warnings.warn(message, RuntimeWarning)\n",
      "/Users/honeyeah/miniconda3/envs/haniyeh_research/lib/python3.13/site-packages/rebound/simulationarchive.py:150: RuntimeWarning: You have to reset function pointers after creating a reb_simulation struct with a binary file.\n",
      "  warnings.warn(message, RuntimeWarning)\n",
      "/Users/honeyeah/miniconda3/envs/haniyeh_research/lib/python3.13/site-packages/rebound/simulationarchive.py:103: RuntimeWarning: Binary file was saved with a different version of REBOUND. Binary format might have changed. Binary file was saved with REBOUND Version 4.4.7. You are currently using REBOUND Version 4.4.8.\n",
      "  warnings.warn(message, RuntimeWarning)\n",
      "/Users/honeyeah/miniconda3/envs/haniyeh_research/lib/python3.13/site-packages/rebound/simulationarchive.py:150: RuntimeWarning: Binary file was saved with a different version of REBOUND. Binary format might have changed.\n",
      "  warnings.warn(message, RuntimeWarning)\n",
      "/Users/honeyeah/miniconda3/envs/haniyeh_research/lib/python3.13/site-packages/rebound/simulationarchive.py:150: RuntimeWarning: You have to reset function pointers after creating a reb_simulation struct with a binary file.\n",
      "  warnings.warn(message, RuntimeWarning)\n",
      "/Users/honeyeah/miniconda3/envs/haniyeh_research/lib/python3.13/site-packages/rebound/simulationarchive.py:103: RuntimeWarning: Binary file was saved with a different version of REBOUND. Binary format might have changed. Binary file was saved with REBOUND Version 4.4.7. You are currently using REBOUND Version 4.4.8.\n",
      "  warnings.warn(message, RuntimeWarning)\n",
      "/Users/honeyeah/miniconda3/envs/haniyeh_research/lib/python3.13/site-packages/rebound/simulationarchive.py:150: RuntimeWarning: Binary file was saved with a different version of REBOUND. Binary format might have changed.\n",
      "  warnings.warn(message, RuntimeWarning)\n",
      "/Users/honeyeah/miniconda3/envs/haniyeh_research/lib/python3.13/site-packages/rebound/simulationarchive.py:150: RuntimeWarning: You have to reset function pointers after creating a reb_simulation struct with a binary file.\n",
      "  warnings.warn(message, RuntimeWarning)\n",
      "/Users/honeyeah/miniconda3/envs/haniyeh_research/lib/python3.13/site-packages/rebound/simulationarchive.py:103: RuntimeWarning: Binary file was saved with a different version of REBOUND. Binary format might have changed. Binary file was saved with REBOUND Version 4.4.7. You are currently using REBOUND Version 4.4.8.\n",
      "  warnings.warn(message, RuntimeWarning)\n",
      "/Users/honeyeah/miniconda3/envs/haniyeh_research/lib/python3.13/site-packages/rebound/simulationarchive.py:150: RuntimeWarning: Binary file was saved with a different version of REBOUND. Binary format might have changed.\n",
      "  warnings.warn(message, RuntimeWarning)\n",
      "/Users/honeyeah/miniconda3/envs/haniyeh_research/lib/python3.13/site-packages/rebound/simulationarchive.py:150: RuntimeWarning: You have to reset function pointers after creating a reb_simulation struct with a binary file.\n",
      "  warnings.warn(message, RuntimeWarning)\n",
      "/Users/honeyeah/miniconda3/envs/haniyeh_research/lib/python3.13/site-packages/rebound/simulationarchive.py:103: RuntimeWarning: Binary file was saved with a different version of REBOUND. Binary format might have changed. Binary file was saved with REBOUND Version 4.4.7. You are currently using REBOUND Version 4.4.8.\n",
      "  warnings.warn(message, RuntimeWarning)\n",
      "/Users/honeyeah/miniconda3/envs/haniyeh_research/lib/python3.13/site-packages/rebound/simulationarchive.py:150: RuntimeWarning: Binary file was saved with a different version of REBOUND. Binary format might have changed.\n",
      "  warnings.warn(message, RuntimeWarning)\n",
      "/Users/honeyeah/miniconda3/envs/haniyeh_research/lib/python3.13/site-packages/rebound/simulationarchive.py:150: RuntimeWarning: You have to reset function pointers after creating a reb_simulation struct with a binary file.\n",
      "  warnings.warn(message, RuntimeWarning)\n",
      "/Users/honeyeah/miniconda3/envs/haniyeh_research/lib/python3.13/site-packages/rebound/simulationarchive.py:103: RuntimeWarning: Binary file was saved with a different version of REBOUND. Binary format might have changed. Binary file was saved with REBOUND Version 4.4.7. You are currently using REBOUND Version 4.4.8.\n",
      "  warnings.warn(message, RuntimeWarning)\n",
      "/Users/honeyeah/miniconda3/envs/haniyeh_research/lib/python3.13/site-packages/rebound/simulationarchive.py:150: RuntimeWarning: Binary file was saved with a different version of REBOUND. Binary format might have changed.\n",
      "  warnings.warn(message, RuntimeWarning)\n",
      "/Users/honeyeah/miniconda3/envs/haniyeh_research/lib/python3.13/site-packages/rebound/simulationarchive.py:150: RuntimeWarning: You have to reset function pointers after creating a reb_simulation struct with a binary file.\n",
      "  warnings.warn(message, RuntimeWarning)\n",
      "/Users/honeyeah/miniconda3/envs/haniyeh_research/lib/python3.13/site-packages/rebound/simulationarchive.py:103: RuntimeWarning: Binary file was saved with a different version of REBOUND. Binary format might have changed. Binary file was saved with REBOUND Version 4.4.7. You are currently using REBOUND Version 4.4.8.\n",
      "  warnings.warn(message, RuntimeWarning)\n",
      "/Users/honeyeah/miniconda3/envs/haniyeh_research/lib/python3.13/site-packages/rebound/simulationarchive.py:150: RuntimeWarning: Binary file was saved with a different version of REBOUND. Binary format might have changed.\n",
      "  warnings.warn(message, RuntimeWarning)\n",
      "/Users/honeyeah/miniconda3/envs/haniyeh_research/lib/python3.13/site-packages/rebound/simulationarchive.py:150: RuntimeWarning: You have to reset function pointers after creating a reb_simulation struct with a binary file.\n",
      "  warnings.warn(message, RuntimeWarning)\n",
      "/Users/honeyeah/miniconda3/envs/haniyeh_research/lib/python3.13/site-packages/rebound/simulationarchive.py:103: RuntimeWarning: Binary file was saved with a different version of REBOUND. Binary format might have changed. Binary file was saved with REBOUND Version 4.4.7. You are currently using REBOUND Version 4.4.8.\n",
      "  warnings.warn(message, RuntimeWarning)\n",
      "/Users/honeyeah/miniconda3/envs/haniyeh_research/lib/python3.13/site-packages/rebound/simulationarchive.py:150: RuntimeWarning: Binary file was saved with a different version of REBOUND. Binary format might have changed.\n",
      "  warnings.warn(message, RuntimeWarning)\n",
      "/Users/honeyeah/miniconda3/envs/haniyeh_research/lib/python3.13/site-packages/rebound/simulationarchive.py:150: RuntimeWarning: You have to reset function pointers after creating a reb_simulation struct with a binary file.\n",
      "  warnings.warn(message, RuntimeWarning)\n",
      "/Users/honeyeah/miniconda3/envs/haniyeh_research/lib/python3.13/site-packages/rebound/simulationarchive.py:103: RuntimeWarning: Binary file was saved with a different version of REBOUND. Binary format might have changed. Binary file was saved with REBOUND Version 4.4.7. You are currently using REBOUND Version 4.4.8.\n",
      "  warnings.warn(message, RuntimeWarning)\n",
      "/Users/honeyeah/miniconda3/envs/haniyeh_research/lib/python3.13/site-packages/rebound/simulationarchive.py:150: RuntimeWarning: Binary file was saved with a different version of REBOUND. Binary format might have changed.\n",
      "  warnings.warn(message, RuntimeWarning)\n",
      "/Users/honeyeah/miniconda3/envs/haniyeh_research/lib/python3.13/site-packages/rebound/simulationarchive.py:150: RuntimeWarning: You have to reset function pointers after creating a reb_simulation struct with a binary file.\n",
      "  warnings.warn(message, RuntimeWarning)\n",
      "/Users/honeyeah/miniconda3/envs/haniyeh_research/lib/python3.13/site-packages/rebound/simulationarchive.py:103: RuntimeWarning: The binary file seems to be corrupted. An attempt has been made to read the uncorrupted parts of it.\n",
      "  warnings.warn(message, RuntimeWarning)\n",
      "/Users/honeyeah/miniconda3/envs/haniyeh_research/lib/python3.13/site-packages/rebound/simulationarchive.py:103: RuntimeWarning: Binary file was saved with a different version of REBOUND. Binary format might have changed. Binary file was saved with REBOUND Version 4.4.7. You are currently using REBOUND Version 4.4.8.\n",
      "  warnings.warn(message, RuntimeWarning)\n",
      "/Users/honeyeah/miniconda3/envs/haniyeh_research/lib/python3.13/site-packages/rebound/simulationarchive.py:150: RuntimeWarning: Binary file was saved with a different version of REBOUND. Binary format might have changed.\n",
      "  warnings.warn(message, RuntimeWarning)\n",
      "/Users/honeyeah/miniconda3/envs/haniyeh_research/lib/python3.13/site-packages/rebound/simulationarchive.py:150: RuntimeWarning: You have to reset function pointers after creating a reb_simulation struct with a binary file.\n",
      "  warnings.warn(message, RuntimeWarning)\n",
      "/Users/honeyeah/miniconda3/envs/haniyeh_research/lib/python3.13/site-packages/rebound/simulationarchive.py:103: RuntimeWarning: Binary file was saved with a different version of REBOUND. Binary format might have changed. Binary file was saved with REBOUND Version 4.4.7. You are currently using REBOUND Version 4.4.8.\n",
      "  warnings.warn(message, RuntimeWarning)\n",
      "/Users/honeyeah/miniconda3/envs/haniyeh_research/lib/python3.13/site-packages/rebound/simulationarchive.py:150: RuntimeWarning: Binary file was saved with a different version of REBOUND. Binary format might have changed.\n",
      "  warnings.warn(message, RuntimeWarning)\n",
      "/Users/honeyeah/miniconda3/envs/haniyeh_research/lib/python3.13/site-packages/rebound/simulationarchive.py:150: RuntimeWarning: You have to reset function pointers after creating a reb_simulation struct with a binary file.\n",
      "  warnings.warn(message, RuntimeWarning)\n",
      "/Users/honeyeah/miniconda3/envs/haniyeh_research/lib/python3.13/site-packages/rebound/simulationarchive.py:103: RuntimeWarning: Binary file was saved with a different version of REBOUND. Binary format might have changed. Binary file was saved with REBOUND Version 4.4.7. You are currently using REBOUND Version 4.4.8.\n",
      "  warnings.warn(message, RuntimeWarning)\n",
      "/Users/honeyeah/miniconda3/envs/haniyeh_research/lib/python3.13/site-packages/rebound/simulationarchive.py:150: RuntimeWarning: Binary file was saved with a different version of REBOUND. Binary format might have changed.\n",
      "  warnings.warn(message, RuntimeWarning)\n",
      "/Users/honeyeah/miniconda3/envs/haniyeh_research/lib/python3.13/site-packages/rebound/simulationarchive.py:150: RuntimeWarning: You have to reset function pointers after creating a reb_simulation struct with a binary file.\n",
      "  warnings.warn(message, RuntimeWarning)\n",
      "/Users/honeyeah/miniconda3/envs/haniyeh_research/lib/python3.13/site-packages/rebound/simulationarchive.py:103: RuntimeWarning: Binary file was saved with a different version of REBOUND. Binary format might have changed. Binary file was saved with REBOUND Version 4.4.7. You are currently using REBOUND Version 4.4.8.\n",
      "  warnings.warn(message, RuntimeWarning)\n",
      "/Users/honeyeah/miniconda3/envs/haniyeh_research/lib/python3.13/site-packages/rebound/simulationarchive.py:150: RuntimeWarning: Binary file was saved with a different version of REBOUND. Binary format might have changed.\n",
      "  warnings.warn(message, RuntimeWarning)\n",
      "/Users/honeyeah/miniconda3/envs/haniyeh_research/lib/python3.13/site-packages/rebound/simulationarchive.py:150: RuntimeWarning: You have to reset function pointers after creating a reb_simulation struct with a binary file.\n",
      "  warnings.warn(message, RuntimeWarning)\n",
      "/Users/honeyeah/miniconda3/envs/haniyeh_research/lib/python3.13/site-packages/rebound/simulationarchive.py:103: RuntimeWarning: Binary file was saved with a different version of REBOUND. Binary format might have changed. Binary file was saved with REBOUND Version 4.4.7. You are currently using REBOUND Version 4.4.8.\n",
      "  warnings.warn(message, RuntimeWarning)\n",
      "/Users/honeyeah/miniconda3/envs/haniyeh_research/lib/python3.13/site-packages/rebound/simulationarchive.py:150: RuntimeWarning: Binary file was saved with a different version of REBOUND. Binary format might have changed.\n",
      "  warnings.warn(message, RuntimeWarning)\n",
      "/Users/honeyeah/miniconda3/envs/haniyeh_research/lib/python3.13/site-packages/rebound/simulationarchive.py:150: RuntimeWarning: You have to reset function pointers after creating a reb_simulation struct with a binary file.\n",
      "  warnings.warn(message, RuntimeWarning)\n",
      "/Users/honeyeah/miniconda3/envs/haniyeh_research/lib/python3.13/site-packages/rebound/simulationarchive.py:103: RuntimeWarning: Binary file was saved with a different version of REBOUND. Binary format might have changed. Binary file was saved with REBOUND Version 4.4.7. You are currently using REBOUND Version 4.4.8.\n",
      "  warnings.warn(message, RuntimeWarning)\n",
      "/Users/honeyeah/miniconda3/envs/haniyeh_research/lib/python3.13/site-packages/rebound/simulationarchive.py:103: RuntimeWarning: The binary file seems to be corrupted. An attempt has been made to read the uncorrupted parts of it.\n",
      "  warnings.warn(message, RuntimeWarning)\n",
      "/Users/honeyeah/miniconda3/envs/haniyeh_research/lib/python3.13/site-packages/rebound/simulationarchive.py:150: RuntimeWarning: Binary file was saved with a different version of REBOUND. Binary format might have changed.\n",
      "  warnings.warn(message, RuntimeWarning)\n",
      "/Users/honeyeah/miniconda3/envs/haniyeh_research/lib/python3.13/site-packages/rebound/simulationarchive.py:150: RuntimeWarning: You have to reset function pointers after creating a reb_simulation struct with a binary file.\n",
      "  warnings.warn(message, RuntimeWarning)\n",
      "/Users/honeyeah/miniconda3/envs/haniyeh_research/lib/python3.13/site-packages/rebound/simulationarchive.py:103: RuntimeWarning: Binary file was saved with a different version of REBOUND. Binary format might have changed. Binary file was saved with REBOUND Version 4.4.7. You are currently using REBOUND Version 4.4.8.\n",
      "  warnings.warn(message, RuntimeWarning)\n",
      "/Users/honeyeah/miniconda3/envs/haniyeh_research/lib/python3.13/site-packages/rebound/simulationarchive.py:150: RuntimeWarning: Binary file was saved with a different version of REBOUND. Binary format might have changed.\n",
      "  warnings.warn(message, RuntimeWarning)\n",
      "/Users/honeyeah/miniconda3/envs/haniyeh_research/lib/python3.13/site-packages/rebound/simulationarchive.py:150: RuntimeWarning: You have to reset function pointers after creating a reb_simulation struct with a binary file.\n",
      "  warnings.warn(message, RuntimeWarning)\n",
      "/Users/honeyeah/miniconda3/envs/haniyeh_research/lib/python3.13/site-packages/rebound/simulationarchive.py:103: RuntimeWarning: Binary file was saved with a different version of REBOUND. Binary format might have changed. Binary file was saved with REBOUND Version 4.4.7. You are currently using REBOUND Version 4.4.8.\n",
      "  warnings.warn(message, RuntimeWarning)\n",
      "/Users/honeyeah/miniconda3/envs/haniyeh_research/lib/python3.13/site-packages/rebound/simulationarchive.py:150: RuntimeWarning: Binary file was saved with a different version of REBOUND. Binary format might have changed.\n",
      "  warnings.warn(message, RuntimeWarning)\n",
      "/Users/honeyeah/miniconda3/envs/haniyeh_research/lib/python3.13/site-packages/rebound/simulationarchive.py:150: RuntimeWarning: You have to reset function pointers after creating a reb_simulation struct with a binary file.\n",
      "  warnings.warn(message, RuntimeWarning)\n",
      "/Users/honeyeah/miniconda3/envs/haniyeh_research/lib/python3.13/site-packages/rebound/simulationarchive.py:103: RuntimeWarning: Binary file was saved with a different version of REBOUND. Binary format might have changed. Binary file was saved with REBOUND Version 4.4.7. You are currently using REBOUND Version 4.4.8.\n",
      "  warnings.warn(message, RuntimeWarning)\n",
      "/Users/honeyeah/miniconda3/envs/haniyeh_research/lib/python3.13/site-packages/rebound/simulationarchive.py:150: RuntimeWarning: Binary file was saved with a different version of REBOUND. Binary format might have changed.\n",
      "  warnings.warn(message, RuntimeWarning)\n",
      "/Users/honeyeah/miniconda3/envs/haniyeh_research/lib/python3.13/site-packages/rebound/simulationarchive.py:150: RuntimeWarning: You have to reset function pointers after creating a reb_simulation struct with a binary file.\n",
      "  warnings.warn(message, RuntimeWarning)\n",
      "/Users/honeyeah/miniconda3/envs/haniyeh_research/lib/python3.13/site-packages/rebound/simulationarchive.py:103: RuntimeWarning: Binary file was saved with a different version of REBOUND. Binary format might have changed. Binary file was saved with REBOUND Version 4.4.7. You are currently using REBOUND Version 4.4.8.\n",
      "  warnings.warn(message, RuntimeWarning)\n",
      "/Users/honeyeah/miniconda3/envs/haniyeh_research/lib/python3.13/site-packages/rebound/simulationarchive.py:150: RuntimeWarning: Binary file was saved with a different version of REBOUND. Binary format might have changed.\n",
      "  warnings.warn(message, RuntimeWarning)\n",
      "/Users/honeyeah/miniconda3/envs/haniyeh_research/lib/python3.13/site-packages/rebound/simulationarchive.py:150: RuntimeWarning: You have to reset function pointers after creating a reb_simulation struct with a binary file.\n",
      "  warnings.warn(message, RuntimeWarning)\n",
      "/Users/honeyeah/miniconda3/envs/haniyeh_research/lib/python3.13/site-packages/rebound/simulationarchive.py:103: RuntimeWarning: Binary file was saved with a different version of REBOUND. Binary format might have changed. Binary file was saved with REBOUND Version 4.4.7. You are currently using REBOUND Version 4.4.8.\n",
      "  warnings.warn(message, RuntimeWarning)\n",
      "/Users/honeyeah/miniconda3/envs/haniyeh_research/lib/python3.13/site-packages/rebound/simulationarchive.py:150: RuntimeWarning: Binary file was saved with a different version of REBOUND. Binary format might have changed.\n",
      "  warnings.warn(message, RuntimeWarning)\n",
      "/Users/honeyeah/miniconda3/envs/haniyeh_research/lib/python3.13/site-packages/rebound/simulationarchive.py:150: RuntimeWarning: You have to reset function pointers after creating a reb_simulation struct with a binary file.\n",
      "  warnings.warn(message, RuntimeWarning)\n",
      "/Users/honeyeah/miniconda3/envs/haniyeh_research/lib/python3.13/site-packages/rebound/simulationarchive.py:103: RuntimeWarning: Binary file was saved with a different version of REBOUND. Binary format might have changed. Binary file was saved with REBOUND Version 4.4.7. You are currently using REBOUND Version 4.4.8.\n",
      "  warnings.warn(message, RuntimeWarning)\n",
      "/Users/honeyeah/miniconda3/envs/haniyeh_research/lib/python3.13/site-packages/rebound/simulationarchive.py:150: RuntimeWarning: Binary file was saved with a different version of REBOUND. Binary format might have changed.\n",
      "  warnings.warn(message, RuntimeWarning)\n",
      "/Users/honeyeah/miniconda3/envs/haniyeh_research/lib/python3.13/site-packages/rebound/simulationarchive.py:150: RuntimeWarning: You have to reset function pointers after creating a reb_simulation struct with a binary file.\n",
      "  warnings.warn(message, RuntimeWarning)\n",
      "/Users/honeyeah/miniconda3/envs/haniyeh_research/lib/python3.13/site-packages/rebound/simulationarchive.py:103: RuntimeWarning: Binary file was saved with a different version of REBOUND. Binary format might have changed. Binary file was saved with REBOUND Version 4.4.7. You are currently using REBOUND Version 4.4.8.\n",
      "  warnings.warn(message, RuntimeWarning)\n",
      "/Users/honeyeah/miniconda3/envs/haniyeh_research/lib/python3.13/site-packages/rebound/simulationarchive.py:150: RuntimeWarning: Binary file was saved with a different version of REBOUND. Binary format might have changed.\n",
      "  warnings.warn(message, RuntimeWarning)\n",
      "/Users/honeyeah/miniconda3/envs/haniyeh_research/lib/python3.13/site-packages/rebound/simulationarchive.py:150: RuntimeWarning: You have to reset function pointers after creating a reb_simulation struct with a binary file.\n",
      "  warnings.warn(message, RuntimeWarning)\n",
      "/Users/honeyeah/miniconda3/envs/haniyeh_research/lib/python3.13/site-packages/rebound/simulationarchive.py:103: RuntimeWarning: Binary file was saved with a different version of REBOUND. Binary format might have changed. Binary file was saved with REBOUND Version 4.4.7. You are currently using REBOUND Version 4.4.8.\n",
      "  warnings.warn(message, RuntimeWarning)\n",
      "/Users/honeyeah/miniconda3/envs/haniyeh_research/lib/python3.13/site-packages/rebound/simulationarchive.py:150: RuntimeWarning: Binary file was saved with a different version of REBOUND. Binary format might have changed.\n",
      "  warnings.warn(message, RuntimeWarning)\n",
      "/Users/honeyeah/miniconda3/envs/haniyeh_research/lib/python3.13/site-packages/rebound/simulationarchive.py:150: RuntimeWarning: You have to reset function pointers after creating a reb_simulation struct with a binary file.\n",
      "  warnings.warn(message, RuntimeWarning)\n",
      "/Users/honeyeah/miniconda3/envs/haniyeh_research/lib/python3.13/site-packages/rebound/simulationarchive.py:103: RuntimeWarning: Binary file was saved with a different version of REBOUND. Binary format might have changed. Binary file was saved with REBOUND Version 4.4.7. You are currently using REBOUND Version 4.4.8.\n",
      "  warnings.warn(message, RuntimeWarning)\n",
      "/Users/honeyeah/miniconda3/envs/haniyeh_research/lib/python3.13/site-packages/rebound/simulationarchive.py:150: RuntimeWarning: Binary file was saved with a different version of REBOUND. Binary format might have changed.\n",
      "  warnings.warn(message, RuntimeWarning)\n",
      "/Users/honeyeah/miniconda3/envs/haniyeh_research/lib/python3.13/site-packages/rebound/simulationarchive.py:150: RuntimeWarning: You have to reset function pointers after creating a reb_simulation struct with a binary file.\n",
      "  warnings.warn(message, RuntimeWarning)\n",
      "/Users/honeyeah/miniconda3/envs/haniyeh_research/lib/python3.13/site-packages/rebound/simulationarchive.py:103: RuntimeWarning: Binary file was saved with a different version of REBOUND. Binary format might have changed. Binary file was saved with REBOUND Version 4.4.7. You are currently using REBOUND Version 4.4.8.\n",
      "  warnings.warn(message, RuntimeWarning)\n",
      "/Users/honeyeah/miniconda3/envs/haniyeh_research/lib/python3.13/site-packages/rebound/simulationarchive.py:150: RuntimeWarning: Binary file was saved with a different version of REBOUND. Binary format might have changed.\n",
      "  warnings.warn(message, RuntimeWarning)\n",
      "/Users/honeyeah/miniconda3/envs/haniyeh_research/lib/python3.13/site-packages/rebound/simulationarchive.py:150: RuntimeWarning: You have to reset function pointers after creating a reb_simulation struct with a binary file.\n",
      "  warnings.warn(message, RuntimeWarning)\n",
      "/Users/honeyeah/miniconda3/envs/haniyeh_research/lib/python3.13/site-packages/rebound/simulationarchive.py:103: RuntimeWarning: Binary file was saved with a different version of REBOUND. Binary format might have changed. Binary file was saved with REBOUND Version 4.4.7. You are currently using REBOUND Version 4.4.8.\n",
      "  warnings.warn(message, RuntimeWarning)\n",
      "/Users/honeyeah/miniconda3/envs/haniyeh_research/lib/python3.13/site-packages/rebound/simulationarchive.py:150: RuntimeWarning: Binary file was saved with a different version of REBOUND. Binary format might have changed.\n",
      "  warnings.warn(message, RuntimeWarning)\n",
      "/Users/honeyeah/miniconda3/envs/haniyeh_research/lib/python3.13/site-packages/rebound/simulationarchive.py:150: RuntimeWarning: You have to reset function pointers after creating a reb_simulation struct with a binary file.\n",
      "  warnings.warn(message, RuntimeWarning)\n",
      "/Users/honeyeah/miniconda3/envs/haniyeh_research/lib/python3.13/site-packages/rebound/simulationarchive.py:103: RuntimeWarning: Binary file was saved with a different version of REBOUND. Binary format might have changed. Binary file was saved with REBOUND Version 4.4.7. You are currently using REBOUND Version 4.4.8.\n",
      "  warnings.warn(message, RuntimeWarning)\n",
      "/Users/honeyeah/miniconda3/envs/haniyeh_research/lib/python3.13/site-packages/rebound/simulationarchive.py:150: RuntimeWarning: Binary file was saved with a different version of REBOUND. Binary format might have changed.\n",
      "  warnings.warn(message, RuntimeWarning)\n",
      "/Users/honeyeah/miniconda3/envs/haniyeh_research/lib/python3.13/site-packages/rebound/simulationarchive.py:150: RuntimeWarning: You have to reset function pointers after creating a reb_simulation struct with a binary file.\n",
      "  warnings.warn(message, RuntimeWarning)\n",
      "/Users/honeyeah/miniconda3/envs/haniyeh_research/lib/python3.13/site-packages/rebound/simulationarchive.py:103: RuntimeWarning: Binary file was saved with a different version of REBOUND. Binary format might have changed. Binary file was saved with REBOUND Version 4.4.7. You are currently using REBOUND Version 4.4.8.\n",
      "  warnings.warn(message, RuntimeWarning)\n",
      "/Users/honeyeah/miniconda3/envs/haniyeh_research/lib/python3.13/site-packages/rebound/simulationarchive.py:150: RuntimeWarning: Binary file was saved with a different version of REBOUND. Binary format might have changed.\n",
      "  warnings.warn(message, RuntimeWarning)\n",
      "/Users/honeyeah/miniconda3/envs/haniyeh_research/lib/python3.13/site-packages/rebound/simulationarchive.py:150: RuntimeWarning: You have to reset function pointers after creating a reb_simulation struct with a binary file.\n",
      "  warnings.warn(message, RuntimeWarning)\n"
     ]
    }
   ],
   "source": [
    "ueda_v3_pldf_list = rr.get_pldfs_uniform(\"/Users/honeyeah/Codes/data/\", \"ueda_v3\", \"ueda_v3_\", 30, 2.99e6, 0.33)\n",
    "cham_cont_pldf_list = rr.get_pldfs_uniform(\"/Users/honeyeah/Codes/data/\", \"cham_cont\", \"cham_cont_\", 30, 2.99e6, 0.33)\n",
    "cham_bench_pldf_list = rr.get_pldfs_uniform(\"/Users/honeyeah/Codes/data/\", \"cham_bench\", \"cham_simarchive_\", 30, 2.99e6, 0.33)"
   ]
  },
  {
   "cell_type": "code",
   "execution_count": 6,
   "id": "733a2b89",
   "metadata": {},
   "outputs": [],
   "source": [
    "ueda_v3_pldf = pd.concat(ueda_v3_pldf_list)\n",
    "cham_bench_pldf = pd.concat(cham_bench_pldf_list)\n",
    "cham_cont_pldf = pd.concat(cham_cont_pldf_list)"
   ]
  },
  {
   "cell_type": "code",
   "execution_count": 7,
   "id": "18d70e27",
   "metadata": {},
   "outputs": [],
   "source": [
    "def mercury_sim_index(masses, cmfs):\n",
    "    cmf_merc =  mercury['CMF'].values[0]\n",
    "    mass_merc =  mercury['m'].values[0]\n",
    "    cmf_diff = np.sum(((cmfs - cmf_merc)/( np.average(np.concatenate((mercury['CMF'], cmfs))) * len(cmfs)))**2)\n",
    "    masses_diff = np.sum(((masses - mass_merc)/( np.average( np.concatenate((mercury['m'], masses)) ) * len(masses)))**2)\n",
    "\n",
    "    index = np.sqrt((cmf_diff + masses_diff)/2)\n",
    "    return index\n",
    "\n",
    "def mercury_sim_index_cmf_only(cmfs):\n",
    "    cmf_merc =  mercury['CMF'].values[0]\n",
    "    cmf_diff = np.sum(((cmfs - cmf_merc)/( np.average( np.concatenate((mercury['CMF'], cmfs)) )))**2)\n",
    "\n",
    "    index = np.sqrt(cmf_diff)\n",
    "    return index"
   ]
  },
  {
   "cell_type": "code",
   "execution_count": 8,
   "id": "26c3e623",
   "metadata": {},
   "outputs": [],
   "source": [
    "#Mercury similarity conditions\n",
    "semi_lower_bound = mercury['a'].values[0] - 0.02\n",
    "semi_upper_bound = mercury['a'].values[0] + 0.02\n",
    "\n",
    "ueda_v3_mercs = ueda_v3_pldf[(ueda_v3_pldf['semi'] > semi_lower_bound) & (ueda_v3_pldf['semi'] < semi_upper_bound)]\n",
    "cham_bench_mercs = cham_bench_pldf[(cham_bench_pldf['semi'] > semi_lower_bound) & (cham_bench_pldf['semi'] < semi_upper_bound)]\n",
    "cham_cont_mercs = cham_cont_pldf[(cham_cont_pldf['semi'] > semi_lower_bound) & (cham_cont_pldf['semi'] < semi_upper_bound)]"
   ]
  },
  {
   "cell_type": "code",
   "execution_count": 9,
   "id": "75fb3744",
   "metadata": {},
   "outputs": [
    {
     "name": "stdout",
     "output_type": "stream",
     "text": [
      "Ueda_v3\n",
      "Merc similarity index =  0.5647384914071453\n"
     ]
    }
   ],
   "source": [
    "ueda_inds = mercury_sim_index(ueda_v3_mercs['mass'].values * sol_to_earth, ueda_v3_mercs['cmf'].values)\n",
    "ueda_inds_cmf = mercury_sim_index_cmf_only(ueda_v3_mercs['cmf'].values)\n",
    "print(\"Ueda_v3\")\n",
    "print(\"Merc similarity index = \", ueda_inds)\n",
    "#print(\"Merc similarity index, CMF only = \", ueda_inds_cmf)"
   ]
  },
  {
   "cell_type": "code",
   "execution_count": 10,
   "id": "4e8dac9c",
   "metadata": {},
   "outputs": [
    {
     "name": "stdout",
     "output_type": "stream",
     "text": [
      "cham_bench\n",
      "Merc similarity index =  0.4374245923329431\n"
     ]
    }
   ],
   "source": [
    "cham_bench_inds = mercury_sim_index(cham_bench_mercs['mass'].values * sol_to_earth, cham_bench_mercs['cmf'].values)\n",
    "cham_bench_inds_cmf = mercury_sim_index_cmf_only(cham_bench_mercs['cmf'].values)\n",
    "print(\"cham_bench\")\n",
    "print(\"Merc similarity index = \", cham_bench_inds)\n",
    "#print(\"Merc similarity index, CMF only = \", cham_bench_inds_cmf)"
   ]
  },
  {
   "cell_type": "code",
   "execution_count": 11,
   "id": "75f66043",
   "metadata": {},
   "outputs": [
    {
     "name": "stdout",
     "output_type": "stream",
     "text": [
      "cham_cont\n",
      "Merc similarity index =  0.6101887486633483\n"
     ]
    }
   ],
   "source": [
    "cham_cont_inds = mercury_sim_index(cham_cont_mercs['mass'].values * sol_to_earth, cham_cont_mercs['cmf'].values)\n",
    "cham_cont_inds_cmf = mercury_sim_index_cmf_only(cham_cont_mercs['cmf'].values)\n",
    "print(\"cham_cont\")\n",
    "print(\"Merc similarity index = \", cham_cont_inds)\n",
    "#print(\"Merc similarity index, CMF only = \", cham_cont_inds_cmf)"
   ]
  },
  {
   "cell_type": "markdown",
   "id": "e5c9c5a3",
   "metadata": {},
   "source": [
    "# Step funcs"
   ]
  },
  {
   "cell_type": "code",
   "execution_count": 12,
   "id": "7762b8a3",
   "metadata": {},
   "outputs": [],
   "source": [
    "ueda_steps = pd.read_csv(\"ueda_v3_grid_fulldf.csv\")\n",
    "cham_bench_steps = pd.read_csv(\"cham_bench_grid_fulldf.csv\")\n",
    "cham_cont_steps = pd.read_csv(\"cham_cont_grid_fulldf.csv\")\n",
    "\n",
    "ueda_steps_mercs = ueda_steps[(ueda_steps['semi'] > semi_lower_bound) & (ueda_steps['semi'] < semi_upper_bound)]\n",
    "cham_bench_steps_mercs = cham_bench_steps[(cham_bench_steps['semi'] > semi_lower_bound) & (cham_bench_steps['semi'] < semi_upper_bound)]\n",
    "cham_cont_steps_mercs = cham_cont_steps[(cham_cont_steps['semi'] > semi_lower_bound) & (cham_cont_steps['semi'] < semi_upper_bound)]"
   ]
  },
  {
   "cell_type": "code",
   "execution_count": 13,
   "id": "5eecb112",
   "metadata": {},
   "outputs": [
    {
     "name": "stdout",
     "output_type": "stream",
     "text": [
      "Ueda_v3\n",
      "Merc similarity index =  0.22599765327856058\n"
     ]
    }
   ],
   "source": [
    "ueda_inds_step = mercury_sim_index(ueda_steps_mercs['mass'].values * sol_to_earth, ueda_steps_mercs['cmf'].values)\n",
    "ueda_inds_cmf_step = mercury_sim_index_cmf_only(ueda_steps_mercs['cmf'].values)\n",
    "print(\"Ueda_v3\")\n",
    "print(\"Merc similarity index = \", ueda_inds_step)\n",
    "#print(\"Merc similarity index, CMF only = \", ueda_inds_cmf_step)"
   ]
  },
  {
   "cell_type": "code",
   "execution_count": 14,
   "id": "7a584a50",
   "metadata": {},
   "outputs": [
    {
     "name": "stdout",
     "output_type": "stream",
     "text": [
      "cham_bench\n",
      "Merc similarity index, step =  0.10821530501890603\n"
     ]
    }
   ],
   "source": [
    "cham_bench_inds_step = mercury_sim_index(cham_bench_steps_mercs['mass'].values * sol_to_earth, cham_bench_steps_mercs['cmf'].values)\n",
    "cham_bench_inds_cmf_step = mercury_sim_index_cmf_only(cham_bench_steps_mercs['cmf'].values)\n",
    "print(\"cham_bench\")\n",
    "print(\"Merc similarity index, step = \", cham_bench_inds_step)\n",
    "#print(\"Merc similarity index, CMF only = \", cham_bench_inds_cmf_step)"
   ]
  },
  {
   "cell_type": "code",
   "execution_count": 15,
   "id": "08068016",
   "metadata": {},
   "outputs": [
    {
     "name": "stdout",
     "output_type": "stream",
     "text": [
      "cham_cont\n",
      "Merc similarity index, step =  0.16903179712335684\n"
     ]
    }
   ],
   "source": [
    "cham_cont_inds_step = mercury_sim_index(cham_cont_steps_mercs['mass'].values * sol_to_earth, cham_cont_steps_mercs['cmf'].values)\n",
    "cham_cont_inds_cmf_step = mercury_sim_index_cmf_only(cham_cont_steps_mercs['cmf'].values)\n",
    "print(\"cham_cont\")\n",
    "print(\"Merc similarity index, step = \", cham_cont_inds_step)\n",
    "#print(\"Merc similarity index, CMF only = \", cham_cont_inds_cmf_step)"
   ]
  },
  {
   "cell_type": "code",
   "execution_count": 16,
   "id": "aea0ac41",
   "metadata": {},
   "outputs": [
    {
     "data": {
      "text/plain": [
       "np.float64(0.2516965045149166)"
      ]
     },
     "execution_count": 16,
     "metadata": {},
     "output_type": "execute_result"
    }
   ],
   "source": [
    "np.sqrt(np.sum(((cham_cont_steps_mercs['cmf'] - 0.7)/(np.average(cham_cont_steps_mercs['cmf'])))**2)/len(cham_cont_steps_mercs['cmf']))"
   ]
  },
  {
   "cell_type": "code",
   "execution_count": 17,
   "id": "59d8ad0c",
   "metadata": {},
   "outputs": [],
   "source": [
    "def mercury_sim_index_divide(masses, cmfs):\n",
    "    cmf_merc =  mercury['CMF'].values[0]\n",
    "    mass_merc =  mercury['m'].values[0]\n",
    "    cmf_diff = np.sum(((cmfs - cmf_merc)/( np.average( np.concatenate((mercury['CMF'], cmfs)) )))**2)\n",
    "    masses_diff = np.sum(((masses - mass_merc)/( np.average( np.concatenate((mercury['m'], masses)) ) ))**2)\n",
    "\n",
    "    index = np.sqrt(cmf_diff/len(cmfs) + masses_diff/len(masses))\n",
    "    return index"
   ]
  },
  {
   "cell_type": "code",
   "execution_count": 18,
   "id": "4817268b",
   "metadata": {},
   "outputs": [
    {
     "name": "stdout",
     "output_type": "stream",
     "text": [
      "cham_cont\n",
      "Merc similarity index, step =  1.373220811434785\n"
     ]
    }
   ],
   "source": [
    "cham_cont_inds_step_div = mercury_sim_index_divide(cham_cont_steps_mercs['mass'].values * sol_to_earth, cham_cont_steps_mercs['cmf'].values)\n",
    "\n",
    "print(\"cham_cont\")\n",
    "print(\"Merc similarity index, step = \", cham_cont_inds_step_div)"
   ]
  },
  {
   "cell_type": "code",
   "execution_count": 19,
   "id": "dca3e128",
   "metadata": {},
   "outputs": [],
   "source": [
    "uniforms = {\n",
    "    \"Cham2013 bimod\": cham_bench_inds,\n",
    "    \"Cham2013 cont\": cham_cont_inds,\n",
    "    \"Ueda2021\": ueda_inds\n",
    "}\n",
    "\n",
    "steps = {\n",
    "    \"Cham2013 bimod\": cham_bench_inds_step,\n",
    "    \"Cham2013 cont\": cham_cont_inds_step,\n",
    "    \"Ueda2021\": ueda_inds_step\n",
    "}"
   ]
  },
  {
   "cell_type": "code",
   "execution_count": 20,
   "id": "20ae29cb",
   "metadata": {},
   "outputs": [
    {
     "data": {
      "image/png": "[encoded data removed]",
      "text/plain": [
       "<Figure size 1500x400 with 1 Axes>"
      ]
     },
     "metadata": {},
     "output_type": "display_data"
    }
   ],
   "source": [
    "# Bar plot\n",
    "plt.figure(figsize=(15,4))\n",
    "plt.bar(uniforms.keys(), uniforms.values(), label = 'uniform', color = colors[0])\n",
    "plt.bar(steps.keys(), steps.values(), label = 'step function', color = colors[1])\n",
    "\n",
    "plt.legend()\n",
    "plt.ylabel(\"Mercury similarity index\")\n",
    "plt.show()"
   ]
  },
  {
   "cell_type": "code",
   "execution_count": 23,
   "id": "6528b50a",
   "metadata": {},
   "outputs": [
    {
     "data": {
      "image/png": "[encoded data removed]",
      "text/plain": [
       "<Figure size 1000x600 with 1 Axes>"
      ]
     },
     "metadata": {},
     "output_type": "display_data"
    }
   ],
   "source": [
    "labels = list(uniforms.keys())  # assumes both dicts have same keys in same order\n",
    "x = np.arange(len(labels))      # numeric positions\n",
    "width = 0.4                     # width of each bar\n",
    "\n",
    "plt.figure(figsize=(10,6))\n",
    "plt.bar(x - width/2, uniforms.values(), width, label='uniform', color=colors[0])\n",
    "plt.bar(x + width/2, steps.values(), width, label='step function', color=colors[1])\n",
    "\n",
    "plt.xticks(x, labels)\n",
    "plt.ylabel(\"Mercury Deviation Index\")\n",
    "plt.legend(fontsize=15)\n",
    "plt.tight_layout()\n",
    "\n",
    "plt.savefig(\"paper_plots/merc_dev_index.pdf\", dpi=30)\n",
    "plt.show()\n"
   ]
  },
  {
   "cell_type": "code",
   "execution_count": 22,
   "id": "9f2f3bc0",
   "metadata": {},
   "outputs": [
    {
     "data": {
      "text/html": [
       "<div>\n",
       "<style scoped>\n",
       "    .dataframe tbody tr th:only-of-type {\n",
       "        vertical-align: middle;\n",
       "    }\n",
       "\n",
       "    .dataframe tbody tr th {\n",
       "        vertical-align: top;\n",
       "    }\n",
       "\n",
       "    .dataframe thead th {\n",
       "        text-align: right;\n",
       "    }\n",
       "</style>\n",
       "<table border=\"1\" class=\"dataframe\">\n",
       "  <thead>\n",
       "    <tr style=\"text-align: right;\">\n",
       "      <th></th>\n",
       "      <th>name</th>\n",
       "      <th>m</th>\n",
       "      <th>a</th>\n",
       "      <th>CMF</th>\n",
       "      <th>color</th>\n",
       "    </tr>\n",
       "  </thead>\n",
       "  <tbody>\n",
       "    <tr>\n",
       "      <th>0</th>\n",
       "      <td>Mercury</td>\n",
       "      <td>0.055</td>\n",
       "      <td>0.387</td>\n",
       "      <td>0.7</td>\n",
       "      <td>#D81B60</td>\n",
       "    </tr>\n",
       "  </tbody>\n",
       "</table>\n",
       "</div>"
      ],
      "text/plain": [
       "      name      m      a  CMF    color\n",
       "0  Mercury  0.055  0.387  0.7  #D81B60"
      ]
     },
     "execution_count": 22,
     "metadata": {},
     "output_type": "execute_result"
    }
   ],
   "source": [
    "mercury"
   ]
  },
  {
   "cell_type": "code",
   "execution_count": null,
   "id": "42223647",
   "metadata": {},
   "outputs": [],
   "source": []
  }
 ],
 "metadata": {
  "kernelspec": {
   "display_name": "haniyeh_research",
   "language": "python",
   "name": "python3"
  },
  "language_info": {
   "codemirror_mode": {
    "name": "ipython",
    "version": 3
   },
   "file_extension": ".py",
   "mimetype": "text/x-python",
   "name": "python",
   "nbconvert_exporter": "python",
   "pygments_lexer": "ipython3",
   "version": "3.13.2"
  }
 },
 "nbformat": 4,
 "nbformat_minor": 5
}
