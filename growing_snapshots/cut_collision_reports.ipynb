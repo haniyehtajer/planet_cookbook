{
 "cells": [
  {
   "cell_type": "code",
   "execution_count": 1,
   "id": "7031b1f1",
   "metadata": {},
   "outputs": [],
   "source": [
    "import numpy as np\n",
    "import matplotlib.pyplot as plt\n",
    "from matplotlib import rcParams\n",
    "from matplotlib.ticker import ScalarFormatter\n",
    "%matplotlib inline\n",
    "import pandas as pd\n",
    "from planet_cookbook import read_reports as rr\n",
    "import os\n",
    "import rebound\n",
    "import seaborn as sns\n",
    "\n",
    "sol_to_earth = 332946.078\n",
    "G = 6.6743* 10**(-11) #N⋅m2/kg2\n",
    "M_sun = 1.989e+33 #g\n",
    "AU = 1.496e+13 #cm"
   ]
  },
  {
   "cell_type": "code",
   "execution_count": 7,
   "id": "c7731014",
   "metadata": {},
   "outputs": [
    {
     "name": "stderr",
     "output_type": "stream",
     "text": [
      "/Users/honeyeah/miniconda3/envs/haniyeh_research/lib/python3.13/site-packages/rebound/simulationarchive.py:103: RuntimeWarning: Binary file was saved with a different version of REBOUND. Binary format might have changed. Binary file was saved with REBOUND Version 4.4.7. You are currently using REBOUND Version 4.4.8.\n",
      "  warnings.warn(message, RuntimeWarning)\n",
      "/Users/honeyeah/miniconda3/envs/haniyeh_research/lib/python3.13/site-packages/rebound/simulationarchive.py:150: RuntimeWarning: Binary file was saved with a different version of REBOUND. Binary format might have changed.\n",
      "  warnings.warn(message, RuntimeWarning)\n",
      "/Users/honeyeah/miniconda3/envs/haniyeh_research/lib/python3.13/site-packages/rebound/simulationarchive.py:150: RuntimeWarning: You have to reset function pointers after creating a reb_simulation struct with a binary file.\n",
      "  warnings.warn(message, RuntimeWarning)\n",
      "/Users/honeyeah/miniconda3/envs/haniyeh_research/lib/python3.13/site-packages/rebound/simulationarchive.py:103: RuntimeWarning: The binary file seems to be corrupted. An attempt has been made to read the uncorrupted parts of it.\n",
      "  warnings.warn(message, RuntimeWarning)\n"
     ]
    },
    {
     "name": "stdout",
     "output_type": "stream",
     "text": [
      "number of finished runs\n",
      "\n",
      "ueda_v3: 7\n",
      "cham_bench: 10\n",
      "cham_cont: 6\n"
     ]
    }
   ],
   "source": [
    "base_path = \"/Users/honeyeah/Codes/data/\" #folder with all data\n",
    "n_runs = 10\n",
    "\n",
    "\n",
    "sim_set = \"ueda_v3/\" #name of simulation set, folder with subfolders the name \"sim_set_i\"\n",
    "sim_archive_path = base_path + sim_set + \"ueda_v3_\" #path given to get_runtime_data function\n",
    "ueda_v3_rdf = rr.get_runtime_data(sim_archive_path, n_runs, \"ueda_v3_\") #rdf is runtime data frame\n",
    "\n",
    "sim_set = \"cham_bench/\" #name of simulation set, folder with subfolders the name \"sim_set_i\"\n",
    "sim_archive_path = base_path + sim_set + \"cham_bench_\" #path given to get_runtime_data function\n",
    "cham_bench_rdf = rr.get_runtime_data(sim_archive_path, n_runs, \"cham_simarchive_\") #rdf is runtime data frame\n",
    "\n",
    "sim_set = \"cham_cont/\" #name of simulation set, folder with subfolders the name \"sim_set_i\"\n",
    "sim_archive_path = base_path + sim_set + \"cham_cont_\" #path given to get_runtime_data function\n",
    "cham_cont_rdf = rr.get_runtime_data(sim_archive_path, n_runs, \"cham_cont_\") #rdf is runtime data frame\n",
    "\n",
    "\n",
    "maxtimes_ueda_v3 = np.array([\n",
    "    ueda_v3_rdf[ueda_v3_rdf['simulation_id'] == i + 1]['time'].max()\n",
    "    for i in range(n_runs)\n",
    "])\n",
    "\n",
    "maxtimes_cham_bench = np.array([\n",
    "    cham_bench_rdf[cham_bench_rdf['simulation_id'] == i + 1]['time'].max()\n",
    "    for i in range(n_runs)\n",
    "])\n",
    "\n",
    "maxtimes_cham_cont = np.array([\n",
    "    cham_cont_rdf[cham_cont_rdf['simulation_id'] == i + 1]['time'].max()\n",
    "    for i in range(n_runs)\n",
    "])\n",
    "\n",
    "keep_ueda_v3 = np.where(maxtimes_ueda_v3 > 299.9e6)[0]\n",
    "keep_cham_bench = np.where(maxtimes_cham_bench > 299.9e6)[0]\n",
    "keep_cham_cont = np.where(maxtimes_cham_cont > 299.9e6)[0]\n",
    "\n",
    "print(\"number of finished runs\\n\")\n",
    "print(f\"ueda_v3: {len(keep_ueda_v3)}\")\n",
    "print(f\"cham_bench: {len(keep_cham_bench)}\")\n",
    "print(f\"cham_cont: {len(keep_cham_cont)}\")"
   ]
  },
  {
   "cell_type": "code",
   "execution_count": 14,
   "id": "70b3e157",
   "metadata": {},
   "outputs": [],
   "source": [
    "cut_times = [5e6, 10e6, 20e6, 50e6, 100e6]\n",
    "\n",
    "#Cham_bench\n",
    "for cut in cut_times:\n",
    "    for i in range(n_runs):\n",
    "        path = f\"/Users/honeyeah/Codes/data/cham_bench/cham_bench_{i+1}/\"\n",
    "        with open(path + \"collision_report.txt\", 'r') as infile, open(path + f'filtered_collision_report_{int(cut/1e6)}Myrs.txt', 'w') as outfile:\n",
    "            for line in infile:\n",
    "                if float(line.split()[0]) < cut_time:\n",
    "                    outfile.write(line)\n"
   ]
  },
  {
   "cell_type": "code",
   "execution_count": 15,
   "id": "7a3eee4f",
   "metadata": {},
   "outputs": [],
   "source": [
    "#Cham_cont\n",
    "for cut in cut_times:\n",
    "    for i in range(n_runs):\n",
    "        path = f\"/Users/honeyeah/Codes/data/cham_cont/cham_cont_{i+1}/\"\n",
    "        with open(path + \"collision_report.txt\", 'r') as infile, open(path + f'filtered_collision_report_{int(cut/1e6)}Myrs.txt', 'w') as outfile:\n",
    "            for line in infile:\n",
    "                if float(line.split()[0]) < cut_time:\n",
    "                    outfile.write(line)\n"
   ]
  },
  {
   "cell_type": "code",
   "execution_count": 16,
   "id": "5341edef",
   "metadata": {},
   "outputs": [],
   "source": [
    "#Ueda_v3\n",
    "\n",
    "for cut in cut_times:\n",
    "    for i in range(n_runs):\n",
    "        path = f\"/Users/honeyeah/Codes/data/ueda_v3/ueda_v3_{i+1}/\"\n",
    "        with open(path + \"collision_report.txt\", 'r') as infile, open(path + f'filtered_collision_report_{int(cut/1e6)}Myrs.txt', 'w') as outfile:\n",
    "            for line in infile:\n",
    "                if float(line.split()[0]) < cut_time:\n",
    "                    outfile.write(line)\n"
   ]
  },
  {
   "cell_type": "code",
   "execution_count": null,
   "id": "6ccd9964",
   "metadata": {},
   "outputs": [],
   "source": []
  }
 ],
 "metadata": {
  "kernelspec": {
   "display_name": "haniyeh_research",
   "language": "python",
   "name": "python3"
  },
  "language_info": {
   "codemirror_mode": {
    "name": "ipython",
    "version": 3
   },
   "file_extension": ".py",
   "mimetype": "text/x-python",
   "name": "python",
   "nbconvert_exporter": "python",
   "pygments_lexer": "ipython3",
   "version": "3.13.2"
  }
 },
 "nbformat": 4,
 "nbformat_minor": 5
}
